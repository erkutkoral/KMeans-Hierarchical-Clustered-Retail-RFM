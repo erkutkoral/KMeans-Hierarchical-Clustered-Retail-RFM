{
 "cells": [
  {
   "cell_type": "markdown",
   "id": "53fe36b5",
   "metadata": {},
   "source": [
    "- #### The data set named Online Retail II includes the online sales activities of a UK-based retail company between 01/12/2009 and 09/12/2011. The product catalog includes souvenir products and it is known that many customers are wholesalers."
   ]
  },
  {
   "cell_type": "markdown",
   "id": "d1eabb42",
   "metadata": {},
   "source": [
    "| Variable | Definition |\n",
    "| :- | -: |\n",
    "| InvoiceNo | Invoice Number (if this code starts with C, it means that order has been canceled) |\n",
    "| StockCode | Product Code |\n",
    "| Description | Product Name |\n",
    "| Quantity | Product Number (how many of the products on the invoices were sold) |\n",
    "| InvoiceDate | Invoice Date |\n",
    "| UnitPrice | Invoice Price (pound)|\n",
    "| CustomerID | Unique Customer Number |\n",
    "| Country | Country Name |"
   ]
  },
  {
   "cell_type": "code",
   "execution_count": 1,
   "id": "059746db",
   "metadata": {},
   "outputs": [],
   "source": [
    "import pandas as pd\n",
    "from scipy import stats\n",
    "import datetime as dt\n",
    "import matplotlib.pyplot as plt\n",
    "from sklearn.preprocessing import MinMaxScaler\n",
    "from sklearn.cluster import KMeans\n",
    "from scipy.cluster.hierarchy import dendrogram\n",
    "from scipy.cluster.hierarchy import linkage\n",
    "from yellowbrick.cluster import KElbowVisualizer\n",
    "from sklearn.cluster import AgglomerativeClustering\n",
    "from sklearn.preprocessing import StandardScaler"
   ]
  },
  {
   "cell_type": "code",
   "execution_count": 2,
   "id": "2aca8f25",
   "metadata": {},
   "outputs": [],
   "source": [
    "import seaborn as sns\n",
    "import numpy as np\n",
    "import warnings"
   ]
  },
  {
   "cell_type": "code",
   "execution_count": 3,
   "id": "ea2976bd",
   "metadata": {},
   "outputs": [],
   "source": [
    "pd.set_option ('display.max_columns', 50)\n",
    "pd.set_option ('display.max_rows', 50)\n",
    "pd.set_option ('display.float_format', lambda x: '%.2f' % x)\n",
    "pd.set_option ('display.width', 1000)\n",
    "warnings.filterwarnings (\"ignore\")"
   ]
  },
  {
   "cell_type": "code",
   "execution_count": 4,
   "id": "6c8d820c",
   "metadata": {},
   "outputs": [],
   "source": [
    "df = pd.read_excel(\"online_retail_II-230817-120704.xlsx\",\n",
    "                   sheet_name = \"Year 2009-2010\")"
   ]
  },
  {
   "cell_type": "code",
   "execution_count": 5,
   "id": "3e0fd1cf",
   "metadata": {},
   "outputs": [
    {
     "data": {
      "text/html": [
       "<div>\n",
       "<style scoped>\n",
       "    .dataframe tbody tr th:only-of-type {\n",
       "        vertical-align: middle;\n",
       "    }\n",
       "\n",
       "    .dataframe tbody tr th {\n",
       "        vertical-align: top;\n",
       "    }\n",
       "\n",
       "    .dataframe thead th {\n",
       "        text-align: right;\n",
       "    }\n",
       "</style>\n",
       "<table border=\"1\" class=\"dataframe\">\n",
       "  <thead>\n",
       "    <tr style=\"text-align: right;\">\n",
       "      <th></th>\n",
       "      <th>Invoice</th>\n",
       "      <th>StockCode</th>\n",
       "      <th>Description</th>\n",
       "      <th>Quantity</th>\n",
       "      <th>InvoiceDate</th>\n",
       "      <th>Price</th>\n",
       "      <th>Customer ID</th>\n",
       "      <th>Country</th>\n",
       "    </tr>\n",
       "  </thead>\n",
       "  <tbody>\n",
       "    <tr>\n",
       "      <th>0</th>\n",
       "      <td>489434</td>\n",
       "      <td>85048</td>\n",
       "      <td>15CM CHRISTMAS GLASS BALL 20 LIGHTS</td>\n",
       "      <td>12</td>\n",
       "      <td>2009-12-01 07:45:00</td>\n",
       "      <td>6.95</td>\n",
       "      <td>13085.00</td>\n",
       "      <td>United Kingdom</td>\n",
       "    </tr>\n",
       "    <tr>\n",
       "      <th>1</th>\n",
       "      <td>489434</td>\n",
       "      <td>79323P</td>\n",
       "      <td>PINK CHERRY LIGHTS</td>\n",
       "      <td>12</td>\n",
       "      <td>2009-12-01 07:45:00</td>\n",
       "      <td>6.75</td>\n",
       "      <td>13085.00</td>\n",
       "      <td>United Kingdom</td>\n",
       "    </tr>\n",
       "    <tr>\n",
       "      <th>2</th>\n",
       "      <td>489434</td>\n",
       "      <td>79323W</td>\n",
       "      <td>WHITE CHERRY LIGHTS</td>\n",
       "      <td>12</td>\n",
       "      <td>2009-12-01 07:45:00</td>\n",
       "      <td>6.75</td>\n",
       "      <td>13085.00</td>\n",
       "      <td>United Kingdom</td>\n",
       "    </tr>\n",
       "    <tr>\n",
       "      <th>3</th>\n",
       "      <td>489434</td>\n",
       "      <td>22041</td>\n",
       "      <td>RECORD FRAME 7\" SINGLE SIZE</td>\n",
       "      <td>48</td>\n",
       "      <td>2009-12-01 07:45:00</td>\n",
       "      <td>2.10</td>\n",
       "      <td>13085.00</td>\n",
       "      <td>United Kingdom</td>\n",
       "    </tr>\n",
       "    <tr>\n",
       "      <th>4</th>\n",
       "      <td>489434</td>\n",
       "      <td>21232</td>\n",
       "      <td>STRAWBERRY CERAMIC TRINKET BOX</td>\n",
       "      <td>24</td>\n",
       "      <td>2009-12-01 07:45:00</td>\n",
       "      <td>1.25</td>\n",
       "      <td>13085.00</td>\n",
       "      <td>United Kingdom</td>\n",
       "    </tr>\n",
       "  </tbody>\n",
       "</table>\n",
       "</div>"
      ],
      "text/plain": [
       "  Invoice StockCode                          Description  Quantity         InvoiceDate  Price  Customer ID         Country\n",
       "0  489434     85048  15CM CHRISTMAS GLASS BALL 20 LIGHTS        12 2009-12-01 07:45:00   6.95     13085.00  United Kingdom\n",
       "1  489434    79323P                   PINK CHERRY LIGHTS        12 2009-12-01 07:45:00   6.75     13085.00  United Kingdom\n",
       "2  489434    79323W                  WHITE CHERRY LIGHTS        12 2009-12-01 07:45:00   6.75     13085.00  United Kingdom\n",
       "3  489434     22041         RECORD FRAME 7\" SINGLE SIZE         48 2009-12-01 07:45:00   2.10     13085.00  United Kingdom\n",
       "4  489434     21232       STRAWBERRY CERAMIC TRINKET BOX        24 2009-12-01 07:45:00   1.25     13085.00  United Kingdom"
      ]
     },
     "execution_count": 5,
     "metadata": {},
     "output_type": "execute_result"
    }
   ],
   "source": [
    "df.head()"
   ]
  },
  {
   "cell_type": "markdown",
   "id": "c9d2a23f",
   "metadata": {},
   "source": [
    "- **525461 Rows**\n",
    "- **8 Variables**"
   ]
  },
  {
   "cell_type": "code",
   "execution_count": 6,
   "id": "058ca609",
   "metadata": {},
   "outputs": [
    {
     "data": {
      "text/plain": [
       "(525461, 8)"
      ]
     },
     "execution_count": 6,
     "metadata": {},
     "output_type": "execute_result"
    }
   ],
   "source": [
    "df.shape"
   ]
  },
  {
   "cell_type": "code",
   "execution_count": 7,
   "id": "7878925d",
   "metadata": {},
   "outputs": [
    {
     "name": "stdout",
     "output_type": "stream",
     "text": [
      "<class 'pandas.core.frame.DataFrame'>\n",
      "RangeIndex: 525461 entries, 0 to 525460\n",
      "Data columns (total 8 columns):\n",
      " #   Column       Non-Null Count   Dtype         \n",
      "---  ------       --------------   -----         \n",
      " 0   Invoice      525461 non-null  object        \n",
      " 1   StockCode    525461 non-null  object        \n",
      " 2   Description  522533 non-null  object        \n",
      " 3   Quantity     525461 non-null  int64         \n",
      " 4   InvoiceDate  525461 non-null  datetime64[ns]\n",
      " 5   Price        525461 non-null  float64       \n",
      " 6   Customer ID  417534 non-null  float64       \n",
      " 7   Country      525461 non-null  object        \n",
      "dtypes: datetime64[ns](1), float64(2), int64(1), object(4)\n",
      "memory usage: 32.1+ MB\n"
     ]
    }
   ],
   "source": [
    "df.info()"
   ]
  },
  {
   "cell_type": "code",
   "execution_count": 8,
   "id": "9f428f27",
   "metadata": {},
   "outputs": [
    {
     "data": {
      "text/html": [
       "<div>\n",
       "<style scoped>\n",
       "    .dataframe tbody tr th:only-of-type {\n",
       "        vertical-align: middle;\n",
       "    }\n",
       "\n",
       "    .dataframe tbody tr th {\n",
       "        vertical-align: top;\n",
       "    }\n",
       "\n",
       "    .dataframe thead th {\n",
       "        text-align: right;\n",
       "    }\n",
       "</style>\n",
       "<table border=\"1\" class=\"dataframe\">\n",
       "  <thead>\n",
       "    <tr style=\"text-align: right;\">\n",
       "      <th></th>\n",
       "      <th>count</th>\n",
       "      <th>mean</th>\n",
       "      <th>min</th>\n",
       "      <th>1%</th>\n",
       "      <th>10%</th>\n",
       "      <th>25%</th>\n",
       "      <th>50%</th>\n",
       "      <th>75%</th>\n",
       "      <th>90%</th>\n",
       "      <th>95%</th>\n",
       "      <th>99%</th>\n",
       "      <th>max</th>\n",
       "      <th>std</th>\n",
       "    </tr>\n",
       "  </thead>\n",
       "  <tbody>\n",
       "    <tr>\n",
       "      <th>Quantity</th>\n",
       "      <td>525461.00</td>\n",
       "      <td>10.34</td>\n",
       "      <td>-9600.00</td>\n",
       "      <td>-3.00</td>\n",
       "      <td>1.00</td>\n",
       "      <td>1.00</td>\n",
       "      <td>3.00</td>\n",
       "      <td>10.00</td>\n",
       "      <td>24.00</td>\n",
       "      <td>30.00</td>\n",
       "      <td>120.00</td>\n",
       "      <td>19152.00</td>\n",
       "      <td>107.42</td>\n",
       "    </tr>\n",
       "    <tr>\n",
       "      <th>InvoiceDate</th>\n",
       "      <td>525461</td>\n",
       "      <td>2010-06-28 11:37:36.845017856</td>\n",
       "      <td>2009-12-01 07:45:00</td>\n",
       "      <td>2009-12-02 14:36:00</td>\n",
       "      <td>2010-01-12 09:48:00</td>\n",
       "      <td>2010-03-21 12:20:00</td>\n",
       "      <td>2010-07-06 09:51:00</td>\n",
       "      <td>2010-10-15 12:45:00</td>\n",
       "      <td>2010-11-19 13:06:00</td>\n",
       "      <td>2010-11-29 15:18:00</td>\n",
       "      <td>2010-12-08 10:40:00</td>\n",
       "      <td>2010-12-09 20:01:00</td>\n",
       "      <td>NaN</td>\n",
       "    </tr>\n",
       "    <tr>\n",
       "      <th>Price</th>\n",
       "      <td>525461.00</td>\n",
       "      <td>4.69</td>\n",
       "      <td>-53594.36</td>\n",
       "      <td>0.21</td>\n",
       "      <td>0.65</td>\n",
       "      <td>1.25</td>\n",
       "      <td>2.10</td>\n",
       "      <td>4.21</td>\n",
       "      <td>7.95</td>\n",
       "      <td>10.17</td>\n",
       "      <td>19.95</td>\n",
       "      <td>25111.09</td>\n",
       "      <td>146.13</td>\n",
       "    </tr>\n",
       "    <tr>\n",
       "      <th>Customer ID</th>\n",
       "      <td>417534.00</td>\n",
       "      <td>15360.65</td>\n",
       "      <td>12346.00</td>\n",
       "      <td>12435.00</td>\n",
       "      <td>13042.00</td>\n",
       "      <td>13983.00</td>\n",
       "      <td>15311.00</td>\n",
       "      <td>16799.00</td>\n",
       "      <td>17706.00</td>\n",
       "      <td>17913.00</td>\n",
       "      <td>18196.00</td>\n",
       "      <td>18287.00</td>\n",
       "      <td>1680.81</td>\n",
       "    </tr>\n",
       "  </tbody>\n",
       "</table>\n",
       "</div>"
      ],
      "text/plain": [
       "                count                           mean                  min                   1%                  10%                  25%                  50%                  75%                  90%                  95%                  99%                  max     std\n",
       "Quantity    525461.00                          10.34             -9600.00                -3.00                 1.00                 1.00                 3.00                10.00                24.00                30.00               120.00             19152.00  107.42\n",
       "InvoiceDate    525461  2010-06-28 11:37:36.845017856  2009-12-01 07:45:00  2009-12-02 14:36:00  2010-01-12 09:48:00  2010-03-21 12:20:00  2010-07-06 09:51:00  2010-10-15 12:45:00  2010-11-19 13:06:00  2010-11-29 15:18:00  2010-12-08 10:40:00  2010-12-09 20:01:00     NaN\n",
       "Price       525461.00                           4.69            -53594.36                 0.21                 0.65                 1.25                 2.10                 4.21                 7.95                10.17                19.95             25111.09  146.13\n",
       "Customer ID 417534.00                       15360.65             12346.00             12435.00             13042.00             13983.00             15311.00             16799.00             17706.00             17913.00             18196.00             18287.00 1680.81"
      ]
     },
     "execution_count": 8,
     "metadata": {},
     "output_type": "execute_result"
    }
   ],
   "source": [
    "df.describe([0.01, 0.1, 0.25, 0.50, 0.75, 0.9, 0.95, 0.99]).T"
   ]
  },
  {
   "cell_type": "markdown",
   "id": "e56b6b39",
   "metadata": {},
   "source": [
    "- #### **Quantity and Price variables have negative values.**\n",
    "- #### **There is a large difference in product quantities and prices between the minimum values and the 1% sample.** \n",
    "- #### **A large value difference was observed between 99% of the sample and max values of the same variables.**\n",
    "- #### **These situations are suspicious about outliers or some data pattnerns.**"
   ]
  },
  {
   "cell_type": "code",
   "execution_count": 9,
   "id": "10e511a9",
   "metadata": {
    "scrolled": true
   },
   "outputs": [
    {
     "data": {
      "text/plain": [
       "Customer ID    107927\n",
       "Description      2928\n",
       "Invoice             0\n",
       "StockCode           0\n",
       "Quantity            0\n",
       "InvoiceDate         0\n",
       "Price               0\n",
       "Country             0\n",
       "dtype: int64"
      ]
     },
     "execution_count": 9,
     "metadata": {},
     "output_type": "execute_result"
    }
   ],
   "source": [
    "df.isnull().sum().sort_values(ascending = False)"
   ]
  },
  {
   "cell_type": "markdown",
   "id": "66dd75e9",
   "metadata": {},
   "source": [
    "- #### **Orders starting with C on invoices are canceled orders. Let's remove these from the data set.**"
   ]
  },
  {
   "cell_type": "code",
   "execution_count": 10,
   "id": "d167af5d",
   "metadata": {},
   "outputs": [],
   "source": [
    "df = df[~df[\"Invoice\"].str.contains (\"C\", na=False)]"
   ]
  },
  {
   "cell_type": "markdown",
   "id": "d56cdb62",
   "metadata": {},
   "source": [
    "- #### **We have seen that the quantity variable contains negative values and has an effect in wide ranges. Therefore, let's set the amount to be greater than zero.**"
   ]
  },
  {
   "cell_type": "code",
   "execution_count": 11,
   "id": "ca9cdc1b",
   "metadata": {},
   "outputs": [],
   "source": [
    "df = df[(df[\"Quantity\"] > 0)]"
   ]
  },
  {
   "cell_type": "markdown",
   "id": "7337763e",
   "metadata": {},
   "source": [
    "- #### **We saw missing values. The missing values here are unique customer numbers, the methods to access or fill them do not make much sense because we can't know what those values are. It's better to drop that values.**"
   ]
  },
  {
   "cell_type": "code",
   "execution_count": 12,
   "id": "9a30e707",
   "metadata": {},
   "outputs": [],
   "source": [
    "df.dropna(inplace = True)"
   ]
  },
  {
   "cell_type": "markdown",
   "id": "bda03f0a",
   "metadata": {},
   "source": [
    "- #### **We made some adjustment so let's look again at descriptive statistics metrics.**"
   ]
  },
  {
   "cell_type": "code",
   "execution_count": 13,
   "id": "d496fb47",
   "metadata": {},
   "outputs": [
    {
     "data": {
      "text/html": [
       "<div>\n",
       "<style scoped>\n",
       "    .dataframe tbody tr th:only-of-type {\n",
       "        vertical-align: middle;\n",
       "    }\n",
       "\n",
       "    .dataframe tbody tr th {\n",
       "        vertical-align: top;\n",
       "    }\n",
       "\n",
       "    .dataframe thead th {\n",
       "        text-align: right;\n",
       "    }\n",
       "</style>\n",
       "<table border=\"1\" class=\"dataframe\">\n",
       "  <thead>\n",
       "    <tr style=\"text-align: right;\">\n",
       "      <th></th>\n",
       "      <th>count</th>\n",
       "      <th>mean</th>\n",
       "      <th>min</th>\n",
       "      <th>1%</th>\n",
       "      <th>10%</th>\n",
       "      <th>25%</th>\n",
       "      <th>50%</th>\n",
       "      <th>75%</th>\n",
       "      <th>90%</th>\n",
       "      <th>95%</th>\n",
       "      <th>99%</th>\n",
       "      <th>max</th>\n",
       "      <th>std</th>\n",
       "    </tr>\n",
       "  </thead>\n",
       "  <tbody>\n",
       "    <tr>\n",
       "      <th>Quantity</th>\n",
       "      <td>407695.00</td>\n",
       "      <td>13.59</td>\n",
       "      <td>1.00</td>\n",
       "      <td>1.00</td>\n",
       "      <td>1.00</td>\n",
       "      <td>2.00</td>\n",
       "      <td>5.00</td>\n",
       "      <td>12.00</td>\n",
       "      <td>24.00</td>\n",
       "      <td>36.00</td>\n",
       "      <td>144.00</td>\n",
       "      <td>19152.00</td>\n",
       "      <td>96.84</td>\n",
       "    </tr>\n",
       "    <tr>\n",
       "      <th>InvoiceDate</th>\n",
       "      <td>407695</td>\n",
       "      <td>2010-07-01 10:10:10.782177792</td>\n",
       "      <td>2009-12-01 07:45:00</td>\n",
       "      <td>2009-12-02 15:10:00</td>\n",
       "      <td>2010-01-19 11:01:00</td>\n",
       "      <td>2010-03-26 14:01:00</td>\n",
       "      <td>2010-07-09 15:46:00</td>\n",
       "      <td>2010-10-14 17:09:00</td>\n",
       "      <td>2010-11-18 10:37:00</td>\n",
       "      <td>2010-11-28 13:53:00</td>\n",
       "      <td>2010-12-07 14:31:00</td>\n",
       "      <td>2010-12-09 20:01:00</td>\n",
       "      <td>NaN</td>\n",
       "    </tr>\n",
       "    <tr>\n",
       "      <th>Price</th>\n",
       "      <td>407695.00</td>\n",
       "      <td>3.29</td>\n",
       "      <td>0.00</td>\n",
       "      <td>0.29</td>\n",
       "      <td>0.65</td>\n",
       "      <td>1.25</td>\n",
       "      <td>1.95</td>\n",
       "      <td>3.75</td>\n",
       "      <td>6.75</td>\n",
       "      <td>8.50</td>\n",
       "      <td>14.95</td>\n",
       "      <td>10953.50</td>\n",
       "      <td>34.76</td>\n",
       "    </tr>\n",
       "    <tr>\n",
       "      <th>Customer ID</th>\n",
       "      <td>407695.00</td>\n",
       "      <td>15368.50</td>\n",
       "      <td>12346.00</td>\n",
       "      <td>12435.00</td>\n",
       "      <td>13044.00</td>\n",
       "      <td>13997.00</td>\n",
       "      <td>15321.00</td>\n",
       "      <td>16812.00</td>\n",
       "      <td>17706.00</td>\n",
       "      <td>17913.00</td>\n",
       "      <td>18196.00</td>\n",
       "      <td>18287.00</td>\n",
       "      <td>1679.80</td>\n",
       "    </tr>\n",
       "  </tbody>\n",
       "</table>\n",
       "</div>"
      ],
      "text/plain": [
       "                count                           mean                  min                   1%                  10%                  25%                  50%                  75%                  90%                  95%                  99%                  max     std\n",
       "Quantity    407695.00                          13.59                 1.00                 1.00                 1.00                 2.00                 5.00                12.00                24.00                36.00               144.00             19152.00   96.84\n",
       "InvoiceDate    407695  2010-07-01 10:10:10.782177792  2009-12-01 07:45:00  2009-12-02 15:10:00  2010-01-19 11:01:00  2010-03-26 14:01:00  2010-07-09 15:46:00  2010-10-14 17:09:00  2010-11-18 10:37:00  2010-11-28 13:53:00  2010-12-07 14:31:00  2010-12-09 20:01:00     NaN\n",
       "Price       407695.00                           3.29                 0.00                 0.29                 0.65                 1.25                 1.95                 3.75                 6.75                 8.50                14.95             10953.50   34.76\n",
       "Customer ID 407695.00                       15368.50             12346.00             12435.00             13044.00             13997.00             15321.00             16812.00             17706.00             17913.00             18196.00             18287.00 1679.80"
      ]
     },
     "execution_count": 13,
     "metadata": {},
     "output_type": "execute_result"
    }
   ],
   "source": [
    "df.describe([0.01, 0.1, 0.25, 0.50, 0.75, 0.9, 0.95, 0.99]).T"
   ]
  },
  {
   "cell_type": "markdown",
   "id": "0654d12e",
   "metadata": {},
   "source": [
    "- #### **The minimum value in the Price variable has been updated to 0. I don't think anything is being sold for free, but there is an improvement here, but the suspicious situation continues in this view.**"
   ]
  },
  {
   "cell_type": "markdown",
   "id": "4ea957aa",
   "metadata": {},
   "source": [
    "- #### **The minimum value in the Quantity values has been updated to 1.Looks like proper.**"
   ]
  },
  {
   "cell_type": "markdown",
   "id": "9f9f5c78",
   "metadata": {},
   "source": [
    "- #### **The lower points in the Quantity and Price variables are balanced appropriately, but the gap between the 99% and maximum values at the upper points still continues.**"
   ]
  },
  {
   "cell_type": "markdown",
   "id": "5f325b34",
   "metadata": {},
   "source": [
    "- #### **Let's look at 0 priced rows and try to get their product codes.**"
   ]
  },
  {
   "cell_type": "code",
   "execution_count": 14,
   "id": "521b929a",
   "metadata": {},
   "outputs": [
    {
     "data": {
      "text/plain": [
       "array([22076, 48185, 'M', 22065, 22142, 85042, 21143, 79320, 22355, 21533,\n",
       "       'TEST001', 21662, 22459, 22458, 22376, 21765, 20914, 22423, 22690,\n",
       "       22472, 22202, '46000M', 22218, 22630, 22121, 21843, 22624, 22846,\n",
       "       22845, 22841], dtype=object)"
      ]
     },
     "execution_count": 14,
     "metadata": {},
     "output_type": "execute_result"
    }
   ],
   "source": [
    "df[df[\"Price\"] == 0][\"StockCode\"].unique()"
   ]
  },
  {
   "cell_type": "markdown",
   "id": "edecfc2d",
   "metadata": {},
   "source": [
    "- #### The structure of product codes progresses numerically.\n",
    "- #### 'M', 'TEST001', '46000M' codes are suspicious inputs.\n",
    "- #### We don't know what these codes are. Also, we don't know any business insights so imputation methods are not usable so dropping them seems proper."
   ]
  },
  {
   "cell_type": "code",
   "execution_count": 15,
   "id": "650cf3a8",
   "metadata": {},
   "outputs": [],
   "source": [
    "df = df[df[\"StockCode\"] != \"M\"]"
   ]
  },
  {
   "cell_type": "markdown",
   "id": "52b8cd9c",
   "metadata": {},
   "source": [
    "- #### Dropped rows which are containing letter M but we saw that there are some values with more letter codes.Let's check them."
   ]
  },
  {
   "cell_type": "code",
   "execution_count": 16,
   "id": "e616d86a",
   "metadata": {},
   "outputs": [],
   "source": [
    "invalid_codes = df[df[\"StockCode\"].astype(str).str.contains(r\"[a-zA-Z]{3,}\")][\"StockCode\"].unique().tolist()"
   ]
  },
  {
   "cell_type": "code",
   "execution_count": 17,
   "id": "a8ec8139",
   "metadata": {},
   "outputs": [
    {
     "data": {
      "text/plain": [
       "['POST', 'BANK CHARGES', 'TEST001', 'TEST002', 'PADS', 'ADJUST', 'ADJUST2']"
      ]
     },
     "execution_count": 17,
     "metadata": {},
     "output_type": "execute_result"
    }
   ],
   "source": [
    "invalid_codes"
   ]
  },
  {
   "cell_type": "markdown",
   "id": "30894aa2",
   "metadata": {},
   "source": [
    "- #### So we have not just M letter codes we have many more but what is the sample size for these?"
   ]
  },
  {
   "cell_type": "code",
   "execution_count": 18,
   "id": "66cfc759",
   "metadata": {},
   "outputs": [
    {
     "data": {
      "text/html": [
       "<div>\n",
       "<style scoped>\n",
       "    .dataframe tbody tr th:only-of-type {\n",
       "        vertical-align: middle;\n",
       "    }\n",
       "\n",
       "    .dataframe tbody tr th {\n",
       "        vertical-align: top;\n",
       "    }\n",
       "\n",
       "    .dataframe thead th {\n",
       "        text-align: right;\n",
       "    }\n",
       "</style>\n",
       "<table border=\"1\" class=\"dataframe\">\n",
       "  <thead>\n",
       "    <tr style=\"text-align: right;\">\n",
       "      <th></th>\n",
       "      <th>Invoice</th>\n",
       "      <th>Quantity</th>\n",
       "      <th>Price</th>\n",
       "      <th>Customer ID</th>\n",
       "    </tr>\n",
       "    <tr>\n",
       "      <th>StockCode</th>\n",
       "      <th></th>\n",
       "      <th></th>\n",
       "      <th></th>\n",
       "      <th></th>\n",
       "    </tr>\n",
       "  </thead>\n",
       "  <tbody>\n",
       "    <tr>\n",
       "      <th>ADJUST</th>\n",
       "      <td>32</td>\n",
       "      <td>32</td>\n",
       "      <td>3538.52</td>\n",
       "      <td>25</td>\n",
       "    </tr>\n",
       "    <tr>\n",
       "      <th>ADJUST2</th>\n",
       "      <td>3</td>\n",
       "      <td>3</td>\n",
       "      <td>731.05</td>\n",
       "      <td>3</td>\n",
       "    </tr>\n",
       "    <tr>\n",
       "      <th>BANK CHARGES</th>\n",
       "      <td>20</td>\n",
       "      <td>20</td>\n",
       "      <td>300.00</td>\n",
       "      <td>12</td>\n",
       "    </tr>\n",
       "    <tr>\n",
       "      <th>PADS</th>\n",
       "      <td>14</td>\n",
       "      <td>14</td>\n",
       "      <td>0.01</td>\n",
       "      <td>12</td>\n",
       "    </tr>\n",
       "    <tr>\n",
       "      <th>POST</th>\n",
       "      <td>738</td>\n",
       "      <td>2212</td>\n",
       "      <td>19964.83</td>\n",
       "      <td>230</td>\n",
       "    </tr>\n",
       "    <tr>\n",
       "      <th>TEST001</th>\n",
       "      <td>11</td>\n",
       "      <td>60</td>\n",
       "      <td>40.50</td>\n",
       "      <td>4</td>\n",
       "    </tr>\n",
       "    <tr>\n",
       "      <th>TEST002</th>\n",
       "      <td>1</td>\n",
       "      <td>1</td>\n",
       "      <td>1.00</td>\n",
       "      <td>1</td>\n",
       "    </tr>\n",
       "  </tbody>\n",
       "</table>\n",
       "</div>"
      ],
      "text/plain": [
       "              Invoice  Quantity    Price  Customer ID\n",
       "StockCode                                            \n",
       "ADJUST             32        32  3538.52           25\n",
       "ADJUST2             3         3   731.05            3\n",
       "BANK CHARGES       20        20   300.00           12\n",
       "PADS               14        14     0.01           12\n",
       "POST              738      2212 19964.83          230\n",
       "TEST001            11        60    40.50            4\n",
       "TEST002             1         1     1.00            1"
      ]
     },
     "execution_count": 18,
     "metadata": {},
     "output_type": "execute_result"
    }
   ],
   "source": [
    "df[df[\"StockCode\"].isin(invalid_codes)].groupby([\"StockCode\"]).agg({\"Invoice\": \"nunique\",\n",
    "                                                                       \"Quantity\": \"sum\",\n",
    "                                                                       \"Price\": \"sum\",\n",
    "                                                                       \"Customer ID\": \"nunique\"})"
   ]
  },
  {
   "cell_type": "markdown",
   "id": "cf66046a",
   "metadata": {},
   "source": [
    "- #### POST code has max sample but it's still low amount of sample.\n",
    "- #### For example, TEST002 stock code appeared in just one row.\n",
    "- #### Even if we sum up all invoices, it is not passing 1000 invoces or 500 customerssince there are 500000 observations and it is not possible to fill or modify them because we do not have any business information. Looks like dropping is proper solution."
   ]
  },
  {
   "cell_type": "code",
   "execution_count": 19,
   "id": "e2c5d3da",
   "metadata": {},
   "outputs": [],
   "source": [
    "df = df[~df[\"StockCode\"].isin(invalid_codes)].reset_index(drop=True)"
   ]
  },
  {
   "cell_type": "markdown",
   "id": "4092d30a",
   "metadata": {},
   "source": [
    "- POST stock code has high prices.\n",
    "- Wanted to check decriptive statistic metrics."
   ]
  },
  {
   "cell_type": "code",
   "execution_count": 20,
   "id": "e32677c7",
   "metadata": {},
   "outputs": [
    {
     "data": {
      "text/html": [
       "<div>\n",
       "<style scoped>\n",
       "    .dataframe tbody tr th:only-of-type {\n",
       "        vertical-align: middle;\n",
       "    }\n",
       "\n",
       "    .dataframe tbody tr th {\n",
       "        vertical-align: top;\n",
       "    }\n",
       "\n",
       "    .dataframe thead th {\n",
       "        text-align: right;\n",
       "    }\n",
       "</style>\n",
       "<table border=\"1\" class=\"dataframe\">\n",
       "  <thead>\n",
       "    <tr style=\"text-align: right;\">\n",
       "      <th></th>\n",
       "      <th>count</th>\n",
       "      <th>mean</th>\n",
       "      <th>min</th>\n",
       "      <th>1%</th>\n",
       "      <th>10%</th>\n",
       "      <th>25%</th>\n",
       "      <th>50%</th>\n",
       "      <th>75%</th>\n",
       "      <th>90%</th>\n",
       "      <th>95%</th>\n",
       "      <th>99%</th>\n",
       "      <th>max</th>\n",
       "      <th>std</th>\n",
       "    </tr>\n",
       "  </thead>\n",
       "  <tbody>\n",
       "    <tr>\n",
       "      <th>Quantity</th>\n",
       "      <td>406450.00</td>\n",
       "      <td>13.62</td>\n",
       "      <td>1.00</td>\n",
       "      <td>1.00</td>\n",
       "      <td>1.00</td>\n",
       "      <td>2.00</td>\n",
       "      <td>5.00</td>\n",
       "      <td>12.00</td>\n",
       "      <td>24.00</td>\n",
       "      <td>36.00</td>\n",
       "      <td>144.00</td>\n",
       "      <td>19152.00</td>\n",
       "      <td>96.99</td>\n",
       "    </tr>\n",
       "    <tr>\n",
       "      <th>InvoiceDate</th>\n",
       "      <td>406450</td>\n",
       "      <td>2010-07-01 10:28:27.142084608</td>\n",
       "      <td>2009-12-01 07:45:00</td>\n",
       "      <td>2009-12-02 15:04:00</td>\n",
       "      <td>2010-01-19 10:41:00</td>\n",
       "      <td>2010-03-26 14:01:00</td>\n",
       "      <td>2010-07-09 15:48:00</td>\n",
       "      <td>2010-10-14 17:09:00</td>\n",
       "      <td>2010-11-18 10:37:00</td>\n",
       "      <td>2010-11-28 13:51:00</td>\n",
       "      <td>2010-12-07 14:31:00</td>\n",
       "      <td>2010-12-09 20:01:00</td>\n",
       "      <td>NaN</td>\n",
       "    </tr>\n",
       "    <tr>\n",
       "      <th>Price</th>\n",
       "      <td>406450.00</td>\n",
       "      <td>3.01</td>\n",
       "      <td>0.00</td>\n",
       "      <td>0.29</td>\n",
       "      <td>0.65</td>\n",
       "      <td>1.25</td>\n",
       "      <td>1.95</td>\n",
       "      <td>3.75</td>\n",
       "      <td>6.75</td>\n",
       "      <td>8.50</td>\n",
       "      <td>12.75</td>\n",
       "      <td>295.00</td>\n",
       "      <td>4.37</td>\n",
       "    </tr>\n",
       "    <tr>\n",
       "      <th>Customer ID</th>\n",
       "      <td>406450.00</td>\n",
       "      <td>15373.48</td>\n",
       "      <td>12346.00</td>\n",
       "      <td>12437.00</td>\n",
       "      <td>13050.00</td>\n",
       "      <td>14006.00</td>\n",
       "      <td>15325.00</td>\n",
       "      <td>16814.00</td>\n",
       "      <td>17706.00</td>\n",
       "      <td>17913.00</td>\n",
       "      <td>18196.00</td>\n",
       "      <td>18287.00</td>\n",
       "      <td>1677.23</td>\n",
       "    </tr>\n",
       "  </tbody>\n",
       "</table>\n",
       "</div>"
      ],
      "text/plain": [
       "                count                           mean                  min                   1%                  10%                  25%                  50%                  75%                  90%                  95%                  99%                  max     std\n",
       "Quantity    406450.00                          13.62                 1.00                 1.00                 1.00                 2.00                 5.00                12.00                24.00                36.00               144.00             19152.00   96.99\n",
       "InvoiceDate    406450  2010-07-01 10:28:27.142084608  2009-12-01 07:45:00  2009-12-02 15:04:00  2010-01-19 10:41:00  2010-03-26 14:01:00  2010-07-09 15:48:00  2010-10-14 17:09:00  2010-11-18 10:37:00  2010-11-28 13:51:00  2010-12-07 14:31:00  2010-12-09 20:01:00     NaN\n",
       "Price       406450.00                           3.01                 0.00                 0.29                 0.65                 1.25                 1.95                 3.75                 6.75                 8.50                12.75               295.00    4.37\n",
       "Customer ID 406450.00                       15373.48             12346.00             12437.00             13050.00             14006.00             15325.00             16814.00             17706.00             17913.00             18196.00             18287.00 1677.23"
      ]
     },
     "execution_count": 20,
     "metadata": {},
     "output_type": "execute_result"
    }
   ],
   "source": [
    "df.describe([0.01, 0.1, 0.25, 0.50, 0.75, 0.9, 0.95, 0.99]).T"
   ]
  },
  {
   "cell_type": "markdown",
   "id": "f44b209b",
   "metadata": {},
   "source": [
    "- #### We saw proper recovery for min values.\n",
    "- #### In max values, there is a decrease for the values, but between 99% and max the clarity is still open enough to be suspicious."
   ]
  },
  {
   "cell_type": "markdown",
   "id": "0de0c4f1",
   "metadata": {},
   "source": [
    "- #### Let's try to evaluate this suspicious openness by reducing this structure a little more.."
   ]
  },
  {
   "cell_type": "markdown",
   "id": "60e39ccc",
   "metadata": {},
   "source": [
    "- #### We can do this reducing part with RFM. For this we need to adjust columns which are,\n",
    "- #### Recency: Today - Last Shopping Day\n",
    "- #### Frequency: Shopping Frequency\n",
    "- #### Monetary: Money Amount"
   ]
  },
  {
   "cell_type": "markdown",
   "id": "503d40df",
   "metadata": {},
   "source": [
    "- #### We have product price for each product and bought quantity so we can multiply them for total amount."
   ]
  },
  {
   "cell_type": "code",
   "execution_count": 21,
   "id": "26ef2852",
   "metadata": {},
   "outputs": [],
   "source": [
    "df[\"TotalPrice\"] = df[\"Quantity\"] * df[\"Price\"]"
   ]
  },
  {
   "cell_type": "code",
   "execution_count": 22,
   "id": "dbf23b66",
   "metadata": {},
   "outputs": [
    {
     "data": {
      "text/html": [
       "<div>\n",
       "<style scoped>\n",
       "    .dataframe tbody tr th:only-of-type {\n",
       "        vertical-align: middle;\n",
       "    }\n",
       "\n",
       "    .dataframe tbody tr th {\n",
       "        vertical-align: top;\n",
       "    }\n",
       "\n",
       "    .dataframe thead th {\n",
       "        text-align: right;\n",
       "    }\n",
       "</style>\n",
       "<table border=\"1\" class=\"dataframe\">\n",
       "  <thead>\n",
       "    <tr style=\"text-align: right;\">\n",
       "      <th></th>\n",
       "      <th>count</th>\n",
       "      <th>mean</th>\n",
       "      <th>min</th>\n",
       "      <th>1%</th>\n",
       "      <th>10%</th>\n",
       "      <th>25%</th>\n",
       "      <th>50%</th>\n",
       "      <th>75%</th>\n",
       "      <th>90%</th>\n",
       "      <th>99%</th>\n",
       "      <th>max</th>\n",
       "      <th>std</th>\n",
       "    </tr>\n",
       "  </thead>\n",
       "  <tbody>\n",
       "    <tr>\n",
       "      <th>Quantity</th>\n",
       "      <td>406450.00</td>\n",
       "      <td>13.62</td>\n",
       "      <td>1.00</td>\n",
       "      <td>1.00</td>\n",
       "      <td>1.00</td>\n",
       "      <td>2.00</td>\n",
       "      <td>5.00</td>\n",
       "      <td>12.00</td>\n",
       "      <td>24.00</td>\n",
       "      <td>144.00</td>\n",
       "      <td>19152.00</td>\n",
       "      <td>96.99</td>\n",
       "    </tr>\n",
       "    <tr>\n",
       "      <th>InvoiceDate</th>\n",
       "      <td>406450</td>\n",
       "      <td>2010-07-01 10:28:27.142084608</td>\n",
       "      <td>2009-12-01 07:45:00</td>\n",
       "      <td>2009-12-02 15:04:00</td>\n",
       "      <td>2010-01-19 10:41:00</td>\n",
       "      <td>2010-03-26 14:01:00</td>\n",
       "      <td>2010-07-09 15:48:00</td>\n",
       "      <td>2010-10-14 17:09:00</td>\n",
       "      <td>2010-11-18 10:37:00</td>\n",
       "      <td>2010-12-07 14:31:00</td>\n",
       "      <td>2010-12-09 20:01:00</td>\n",
       "      <td>NaN</td>\n",
       "    </tr>\n",
       "    <tr>\n",
       "      <th>Price</th>\n",
       "      <td>406450.00</td>\n",
       "      <td>3.01</td>\n",
       "      <td>0.00</td>\n",
       "      <td>0.29</td>\n",
       "      <td>0.65</td>\n",
       "      <td>1.25</td>\n",
       "      <td>1.95</td>\n",
       "      <td>3.75</td>\n",
       "      <td>6.75</td>\n",
       "      <td>12.75</td>\n",
       "      <td>295.00</td>\n",
       "      <td>4.37</td>\n",
       "    </tr>\n",
       "    <tr>\n",
       "      <th>Customer ID</th>\n",
       "      <td>406450.00</td>\n",
       "      <td>15373.48</td>\n",
       "      <td>12346.00</td>\n",
       "      <td>12437.00</td>\n",
       "      <td>13050.00</td>\n",
       "      <td>14006.00</td>\n",
       "      <td>15325.00</td>\n",
       "      <td>16814.00</td>\n",
       "      <td>17706.00</td>\n",
       "      <td>18196.00</td>\n",
       "      <td>18287.00</td>\n",
       "      <td>1677.23</td>\n",
       "    </tr>\n",
       "    <tr>\n",
       "      <th>TotalPrice</th>\n",
       "      <td>406450.00</td>\n",
       "      <td>21.36</td>\n",
       "      <td>0.00</td>\n",
       "      <td>0.65</td>\n",
       "      <td>2.10</td>\n",
       "      <td>4.95</td>\n",
       "      <td>11.85</td>\n",
       "      <td>19.50</td>\n",
       "      <td>35.40</td>\n",
       "      <td>197.10</td>\n",
       "      <td>15818.40</td>\n",
       "      <td>69.14</td>\n",
       "    </tr>\n",
       "  </tbody>\n",
       "</table>\n",
       "</div>"
      ],
      "text/plain": [
       "                count                           mean                  min                   1%                  10%                  25%                  50%                  75%                  90%                  99%                  max     std\n",
       "Quantity    406450.00                          13.62                 1.00                 1.00                 1.00                 2.00                 5.00                12.00                24.00               144.00             19152.00   96.99\n",
       "InvoiceDate    406450  2010-07-01 10:28:27.142084608  2009-12-01 07:45:00  2009-12-02 15:04:00  2010-01-19 10:41:00  2010-03-26 14:01:00  2010-07-09 15:48:00  2010-10-14 17:09:00  2010-11-18 10:37:00  2010-12-07 14:31:00  2010-12-09 20:01:00     NaN\n",
       "Price       406450.00                           3.01                 0.00                 0.29                 0.65                 1.25                 1.95                 3.75                 6.75                12.75               295.00    4.37\n",
       "Customer ID 406450.00                       15373.48             12346.00             12437.00             13050.00             14006.00             15325.00             16814.00             17706.00             18196.00             18287.00 1677.23\n",
       "TotalPrice  406450.00                          21.36                 0.00                 0.65                 2.10                 4.95                11.85                19.50                35.40               197.10             15818.40   69.14"
      ]
     },
     "execution_count": 22,
     "metadata": {},
     "output_type": "execute_result"
    }
   ],
   "source": [
    "df.describe([0.01, 0.1, 0.25, 0.5, 0.75, 0.90, 0.99]).T"
   ]
  },
  {
   "cell_type": "markdown",
   "id": "5cf33905",
   "metadata": {},
   "source": [
    "- #### To find the last shopping date, we find the maximum value of billing times."
   ]
  },
  {
   "cell_type": "code",
   "execution_count": 23,
   "id": "c490e2ce",
   "metadata": {},
   "outputs": [],
   "source": [
    "max_invoice_date = df[\"InvoiceDate\"].max()"
   ]
  },
  {
   "cell_type": "code",
   "execution_count": 24,
   "id": "833eeecc",
   "metadata": {},
   "outputs": [
    {
     "data": {
      "text/plain": [
       "Timestamp('2010-12-09 20:01:00')"
      ]
     },
     "execution_count": 24,
     "metadata": {},
     "output_type": "execute_result"
    }
   ],
   "source": [
    "max_invoice_date"
   ]
  },
  {
   "cell_type": "markdown",
   "id": "81887731",
   "metadata": {},
   "source": [
    "- #### From here, we need to move on to how recently customers shopped. \n",
    "- #### After finding this, using this max value may show some values as 0. To solve this situation, we can start this difference from 1 or 2 by putting a difference of 1 or 2 days."
   ]
  },
  {
   "cell_type": "code",
   "execution_count": 25,
   "id": "716527b8",
   "metadata": {},
   "outputs": [],
   "source": [
    "today_date = (max_invoice_date + dt.timedelta(days=2))"
   ]
  },
  {
   "cell_type": "code",
   "execution_count": 26,
   "id": "6f2f295b",
   "metadata": {},
   "outputs": [
    {
     "data": {
      "text/plain": [
       "Timestamp('2010-12-11 20:01:00')"
      ]
     },
     "execution_count": 26,
     "metadata": {},
     "output_type": "execute_result"
    }
   ],
   "source": [
    "today_date"
   ]
  },
  {
   "cell_type": "markdown",
   "id": "5c0d58ee",
   "metadata": {},
   "source": [
    "- #### We can extract these values with grouping unique customer numbers."
   ]
  },
  {
   "cell_type": "code",
   "execution_count": 27,
   "id": "4a758c07",
   "metadata": {},
   "outputs": [],
   "source": [
    "rfm = df.groupby(\"Customer ID\").agg({\"InvoiceDate\": lambda date: (today_date - date.max()).days,\n",
    "                                       \"Invoice\": \"nunique\",\n",
    "                                       \"TotalPrice\": \"sum\"})"
   ]
  },
  {
   "cell_type": "code",
   "execution_count": 28,
   "id": "543922e3",
   "metadata": {},
   "outputs": [
    {
     "data": {
      "text/html": [
       "<div>\n",
       "<style scoped>\n",
       "    .dataframe tbody tr th:only-of-type {\n",
       "        vertical-align: middle;\n",
       "    }\n",
       "\n",
       "    .dataframe tbody tr th {\n",
       "        vertical-align: top;\n",
       "    }\n",
       "\n",
       "    .dataframe thead th {\n",
       "        text-align: right;\n",
       "    }\n",
       "</style>\n",
       "<table border=\"1\" class=\"dataframe\">\n",
       "  <thead>\n",
       "    <tr style=\"text-align: right;\">\n",
       "      <th></th>\n",
       "      <th>InvoiceDate</th>\n",
       "      <th>Invoice</th>\n",
       "      <th>TotalPrice</th>\n",
       "    </tr>\n",
       "    <tr>\n",
       "      <th>Customer ID</th>\n",
       "      <th></th>\n",
       "      <th></th>\n",
       "      <th></th>\n",
       "    </tr>\n",
       "  </thead>\n",
       "  <tbody>\n",
       "    <tr>\n",
       "      <th>12346.00</th>\n",
       "      <td>166</td>\n",
       "      <td>2</td>\n",
       "      <td>169.36</td>\n",
       "    </tr>\n",
       "    <tr>\n",
       "      <th>12347.00</th>\n",
       "      <td>4</td>\n",
       "      <td>2</td>\n",
       "      <td>1323.32</td>\n",
       "    </tr>\n",
       "    <tr>\n",
       "      <th>12348.00</th>\n",
       "      <td>75</td>\n",
       "      <td>1</td>\n",
       "      <td>221.16</td>\n",
       "    </tr>\n",
       "    <tr>\n",
       "      <th>12349.00</th>\n",
       "      <td>44</td>\n",
       "      <td>2</td>\n",
       "      <td>2221.14</td>\n",
       "    </tr>\n",
       "    <tr>\n",
       "      <th>12351.00</th>\n",
       "      <td>12</td>\n",
       "      <td>1</td>\n",
       "      <td>300.93</td>\n",
       "    </tr>\n",
       "  </tbody>\n",
       "</table>\n",
       "</div>"
      ],
      "text/plain": [
       "             InvoiceDate  Invoice  TotalPrice\n",
       "Customer ID                                  \n",
       "12346.00             166        2      169.36\n",
       "12347.00               4        2     1323.32\n",
       "12348.00              75        1      221.16\n",
       "12349.00              44        2     2221.14\n",
       "12351.00              12        1      300.93"
      ]
     },
     "execution_count": 28,
     "metadata": {},
     "output_type": "execute_result"
    }
   ],
   "source": [
    "rfm.head()"
   ]
  },
  {
   "cell_type": "code",
   "execution_count": 29,
   "id": "014a4f73",
   "metadata": {},
   "outputs": [
    {
     "data": {
      "text/plain": [
       "(4286, 3)"
      ]
     },
     "execution_count": 29,
     "metadata": {},
     "output_type": "execute_result"
    }
   ],
   "source": [
    "rfm.shape"
   ]
  },
  {
   "cell_type": "markdown",
   "id": "e0b1df21",
   "metadata": {},
   "source": [
    "- #### Sütun isimlerini RFM yapısına uygun hale getirelim."
   ]
  },
  {
   "cell_type": "code",
   "execution_count": 30,
   "id": "58192c57",
   "metadata": {},
   "outputs": [],
   "source": [
    "rfm.columns = [\"Recency\", \"Frequency\", \"Monetary\"]"
   ]
  },
  {
   "cell_type": "code",
   "execution_count": 31,
   "id": "2968ce30",
   "metadata": {},
   "outputs": [
    {
     "data": {
      "text/html": [
       "<div>\n",
       "<style scoped>\n",
       "    .dataframe tbody tr th:only-of-type {\n",
       "        vertical-align: middle;\n",
       "    }\n",
       "\n",
       "    .dataframe tbody tr th {\n",
       "        vertical-align: top;\n",
       "    }\n",
       "\n",
       "    .dataframe thead th {\n",
       "        text-align: right;\n",
       "    }\n",
       "</style>\n",
       "<table border=\"1\" class=\"dataframe\">\n",
       "  <thead>\n",
       "    <tr style=\"text-align: right;\">\n",
       "      <th></th>\n",
       "      <th>Recency</th>\n",
       "      <th>Frequency</th>\n",
       "      <th>Monetary</th>\n",
       "    </tr>\n",
       "    <tr>\n",
       "      <th>Customer ID</th>\n",
       "      <th></th>\n",
       "      <th></th>\n",
       "      <th></th>\n",
       "    </tr>\n",
       "  </thead>\n",
       "  <tbody>\n",
       "    <tr>\n",
       "      <th>12346.00</th>\n",
       "      <td>166</td>\n",
       "      <td>2</td>\n",
       "      <td>169.36</td>\n",
       "    </tr>\n",
       "    <tr>\n",
       "      <th>12347.00</th>\n",
       "      <td>4</td>\n",
       "      <td>2</td>\n",
       "      <td>1323.32</td>\n",
       "    </tr>\n",
       "    <tr>\n",
       "      <th>12348.00</th>\n",
       "      <td>75</td>\n",
       "      <td>1</td>\n",
       "      <td>221.16</td>\n",
       "    </tr>\n",
       "    <tr>\n",
       "      <th>12349.00</th>\n",
       "      <td>44</td>\n",
       "      <td>2</td>\n",
       "      <td>2221.14</td>\n",
       "    </tr>\n",
       "    <tr>\n",
       "      <th>12351.00</th>\n",
       "      <td>12</td>\n",
       "      <td>1</td>\n",
       "      <td>300.93</td>\n",
       "    </tr>\n",
       "  </tbody>\n",
       "</table>\n",
       "</div>"
      ],
      "text/plain": [
       "             Recency  Frequency  Monetary\n",
       "Customer ID                              \n",
       "12346.00         166          2    169.36\n",
       "12347.00           4          2   1323.32\n",
       "12348.00          75          1    221.16\n",
       "12349.00          44          2   2221.14\n",
       "12351.00          12          1    300.93"
      ]
     },
     "execution_count": 31,
     "metadata": {},
     "output_type": "execute_result"
    }
   ],
   "source": [
    "rfm.head()"
   ]
  },
  {
   "cell_type": "markdown",
   "id": "30934365",
   "metadata": {},
   "source": [
    "- #### In this way, we solved the problem that the last shopping day had a value of 0.\n",
    "- #### Should adjust some configuration for Frequency and Monetary."
   ]
  },
  {
   "cell_type": "code",
   "execution_count": 32,
   "id": "46c9df33",
   "metadata": {},
   "outputs": [],
   "source": [
    "rfm = rfm[(rfm[\"Monetary\"]) > 0 & (rfm[\"Frequency\"] > 0)]"
   ]
  },
  {
   "cell_type": "markdown",
   "id": "31f37a35",
   "metadata": {},
   "source": [
    "- #### Wanted to check decriptive statistics metrics again after this configs."
   ]
  },
  {
   "cell_type": "code",
   "execution_count": 33,
   "id": "88428e84",
   "metadata": {},
   "outputs": [
    {
     "data": {
      "text/html": [
       "<div>\n",
       "<style scoped>\n",
       "    .dataframe tbody tr th:only-of-type {\n",
       "        vertical-align: middle;\n",
       "    }\n",
       "\n",
       "    .dataframe tbody tr th {\n",
       "        vertical-align: top;\n",
       "    }\n",
       "\n",
       "    .dataframe thead th {\n",
       "        text-align: right;\n",
       "    }\n",
       "</style>\n",
       "<table border=\"1\" class=\"dataframe\">\n",
       "  <thead>\n",
       "    <tr style=\"text-align: right;\">\n",
       "      <th></th>\n",
       "      <th>count</th>\n",
       "      <th>mean</th>\n",
       "      <th>std</th>\n",
       "      <th>min</th>\n",
       "      <th>1%</th>\n",
       "      <th>10%</th>\n",
       "      <th>25%</th>\n",
       "      <th>50%</th>\n",
       "      <th>75%</th>\n",
       "      <th>90%</th>\n",
       "      <th>99%</th>\n",
       "      <th>max</th>\n",
       "    </tr>\n",
       "  </thead>\n",
       "  <tbody>\n",
       "    <tr>\n",
       "      <th>Recency</th>\n",
       "      <td>4286.00</td>\n",
       "      <td>91.56</td>\n",
       "      <td>96.35</td>\n",
       "      <td>2.00</td>\n",
       "      <td>2.00</td>\n",
       "      <td>9.00</td>\n",
       "      <td>19.00</td>\n",
       "      <td>53.00</td>\n",
       "      <td>136.75</td>\n",
       "      <td>255.00</td>\n",
       "      <td>369.00</td>\n",
       "      <td>375.00</td>\n",
       "    </tr>\n",
       "    <tr>\n",
       "      <th>Frequency</th>\n",
       "      <td>4286.00</td>\n",
       "      <td>4.43</td>\n",
       "      <td>7.95</td>\n",
       "      <td>1.00</td>\n",
       "      <td>1.00</td>\n",
       "      <td>1.00</td>\n",
       "      <td>1.00</td>\n",
       "      <td>2.00</td>\n",
       "      <td>5.00</td>\n",
       "      <td>9.00</td>\n",
       "      <td>31.15</td>\n",
       "      <td>184.00</td>\n",
       "    </tr>\n",
       "    <tr>\n",
       "      <th>Monetary</th>\n",
       "      <td>4286.00</td>\n",
       "      <td>2025.18</td>\n",
       "      <td>8829.91</td>\n",
       "      <td>1.55</td>\n",
       "      <td>40.76</td>\n",
       "      <td>157.03</td>\n",
       "      <td>307.66</td>\n",
       "      <td>702.25</td>\n",
       "      <td>1703.98</td>\n",
       "      <td>3761.56</td>\n",
       "      <td>19749.29</td>\n",
       "      <td>349164.35</td>\n",
       "    </tr>\n",
       "  </tbody>\n",
       "</table>\n",
       "</div>"
      ],
      "text/plain": [
       "            count    mean     std  min    1%    10%    25%    50%     75%     90%      99%       max\n",
       "Recency   4286.00   91.56   96.35 2.00  2.00   9.00  19.00  53.00  136.75  255.00   369.00    375.00\n",
       "Frequency 4286.00    4.43    7.95 1.00  1.00   1.00   1.00   2.00    5.00    9.00    31.15    184.00\n",
       "Monetary  4286.00 2025.18 8829.91 1.55 40.76 157.03 307.66 702.25 1703.98 3761.56 19749.29 349164.35"
      ]
     },
     "execution_count": 33,
     "metadata": {},
     "output_type": "execute_result"
    }
   ],
   "source": [
    "rfm.describe([0.01, 0.1, 0.25, 0.5, 0.75, 0.90, 0.99]).T"
   ]
  },
  {
   "cell_type": "markdown",
   "id": "37119944",
   "metadata": {},
   "source": [
    "- #### No 0 values in Recency min metrics.\n",
    "- #### No 0 values or any looking like outlier values in min metric of Frequency.\n",
    "- #### In %99 between max points of dataset we have outliers in Monetary and Frequency."
   ]
  },
  {
   "cell_type": "code",
   "execution_count": 34,
   "id": "4c5ee450",
   "metadata": {},
   "outputs": [
    {
     "data": {
      "image/png": "[encoded data removed]",
      "text/plain": [
       "<Figure size 1000x600 with 1 Axes>"
      ]
     },
     "metadata": {},
     "output_type": "display_data"
    },
    {
     "data": {
      "image/png": "[encoded data removed]",
      "text/plain": [
       "<Figure size 1000x600 with 1 Axes>"
      ]
     },
     "metadata": {},
     "output_type": "display_data"
    },
    {
     "data": {
      "image/png": "[encoded data removed]",
      "text/plain": [
       "<Figure size 1000x600 with 1 Axes>"
      ]
     },
     "metadata": {},
     "output_type": "display_data"
    }
   ],
   "source": [
    "for col in rfm.columns:\n",
    "    plt.figure(figsize = (10, 6))\n",
    "    sns.boxplot(x = rfm[col])\n",
    "    plt.show()"
   ]
  },
  {
   "cell_type": "code",
   "execution_count": 35,
   "id": "64738a5a",
   "metadata": {},
   "outputs": [],
   "source": [
    "def outlier_thresholds(dataframe, col_name, q1=0.05, q3=0.95):\n",
    "    quartile1 = dataframe[col_name].quantile (q1)\n",
    "    quartile3 = dataframe[col_name].quantile (q3)\n",
    "    interquantile_range = quartile3 - quartile1\n",
    "    up_limit = quartile3 + 1.5 * interquantile_range\n",
    "    low_limit = quartile1 - 1.5 * interquantile_range\n",
    "    return low_limit, up_limit"
   ]
  },
  {
   "cell_type": "code",
   "execution_count": 36,
   "id": "d9f0d193",
   "metadata": {},
   "outputs": [
    {
     "name": "stdout",
     "output_type": "stream",
     "text": [
      "Recency (-444.5, 751.5)\n",
      "Frequency (-17.0, 31.0)\n",
      "Monetary (-8968.220000000001, 15243.2)\n"
     ]
    }
   ],
   "source": [
    "for col in rfm.columns:\n",
    "    print(col, outlier_thresholds(rfm, col))"
   ]
  },
  {
   "cell_type": "code",
   "execution_count": 37,
   "id": "b4ec9a79",
   "metadata": {},
   "outputs": [],
   "source": [
    "def check_outlier(dataframe, col_name, q1=0.05, q3=0.95):\n",
    "    low_limit, up_limit = outlier_thresholds (dataframe, col_name, q1, q3)\n",
    "    if dataframe[(dataframe[col_name] > up_limit) | (dataframe[col_name] < low_limit)].any (axis=None):\n",
    "        return True\n",
    "    else:\n",
    "        return False"
   ]
  },
  {
   "cell_type": "code",
   "execution_count": 38,
   "id": "356997f1",
   "metadata": {},
   "outputs": [
    {
     "name": "stdout",
     "output_type": "stream",
     "text": [
      "Recency False\n",
      "Frequency True\n",
      "Monetary True\n"
     ]
    }
   ],
   "source": [
    "for col in rfm.columns:\n",
    "    print(col, check_outlier(rfm, col))"
   ]
  },
  {
   "cell_type": "markdown",
   "id": "5c7ccfc2",
   "metadata": {},
   "source": [
    "- #### Recency variable has outliers but it can not be seen in %5 - %95 parts of data. For not changing dataset patterns we are looking in that range if we go up for more we may change decriptive metrics and it is going to change distribution of data. This is not a situation we want."
   ]
  },
  {
   "cell_type": "markdown",
   "id": "90e56751",
   "metadata": {},
   "source": [
    "- #### Now we can trim these values at %5-%95 range."
   ]
  },
  {
   "cell_type": "code",
   "execution_count": 39,
   "id": "51654b0b",
   "metadata": {},
   "outputs": [],
   "source": [
    "def replace_with_thresholds(dataframe, variable):\n",
    "    low_limit, up_limit = outlier_thresholds (dataframe, variable)\n",
    "    dataframe.loc[(dataframe[variable] < low_limit), variable] = low_limit\n",
    "    dataframe.loc[(dataframe[variable] > up_limit), variable] = up_limit"
   ]
  },
  {
   "cell_type": "code",
   "execution_count": 40,
   "id": "b650c2e0",
   "metadata": {},
   "outputs": [],
   "source": [
    "for col in rfm.columns:\n",
    "    replace_with_thresholds(rfm, col)"
   ]
  },
  {
   "cell_type": "markdown",
   "id": "476f1bdf",
   "metadata": {},
   "source": [
    "- #### Checking decriptive statistics metrics."
   ]
  },
  {
   "cell_type": "code",
   "execution_count": 41,
   "id": "225d6b7b",
   "metadata": {},
   "outputs": [
    {
     "data": {
      "text/html": [
       "<div>\n",
       "<style scoped>\n",
       "    .dataframe tbody tr th:only-of-type {\n",
       "        vertical-align: middle;\n",
       "    }\n",
       "\n",
       "    .dataframe tbody tr th {\n",
       "        vertical-align: top;\n",
       "    }\n",
       "\n",
       "    .dataframe thead th {\n",
       "        text-align: right;\n",
       "    }\n",
       "</style>\n",
       "<table border=\"1\" class=\"dataframe\">\n",
       "  <thead>\n",
       "    <tr style=\"text-align: right;\">\n",
       "      <th></th>\n",
       "      <th>count</th>\n",
       "      <th>mean</th>\n",
       "      <th>std</th>\n",
       "      <th>min</th>\n",
       "      <th>1%</th>\n",
       "      <th>10%</th>\n",
       "      <th>25%</th>\n",
       "      <th>50%</th>\n",
       "      <th>75%</th>\n",
       "      <th>90%</th>\n",
       "      <th>99%</th>\n",
       "      <th>max</th>\n",
       "    </tr>\n",
       "  </thead>\n",
       "  <tbody>\n",
       "    <tr>\n",
       "      <th>Recency</th>\n",
       "      <td>4286.00</td>\n",
       "      <td>91.56</td>\n",
       "      <td>96.35</td>\n",
       "      <td>2.00</td>\n",
       "      <td>2.00</td>\n",
       "      <td>9.00</td>\n",
       "      <td>19.00</td>\n",
       "      <td>53.00</td>\n",
       "      <td>136.75</td>\n",
       "      <td>255.00</td>\n",
       "      <td>369.00</td>\n",
       "      <td>375.00</td>\n",
       "    </tr>\n",
       "    <tr>\n",
       "      <th>Frequency</th>\n",
       "      <td>4286.00</td>\n",
       "      <td>4.11</td>\n",
       "      <td>4.89</td>\n",
       "      <td>1.00</td>\n",
       "      <td>1.00</td>\n",
       "      <td>1.00</td>\n",
       "      <td>1.00</td>\n",
       "      <td>2.00</td>\n",
       "      <td>5.00</td>\n",
       "      <td>9.00</td>\n",
       "      <td>31.00</td>\n",
       "      <td>31.00</td>\n",
       "    </tr>\n",
       "    <tr>\n",
       "      <th>Monetary</th>\n",
       "      <td>4286.00</td>\n",
       "      <td>1588.58</td>\n",
       "      <td>2523.16</td>\n",
       "      <td>1.55</td>\n",
       "      <td>40.76</td>\n",
       "      <td>157.03</td>\n",
       "      <td>307.66</td>\n",
       "      <td>702.25</td>\n",
       "      <td>1703.98</td>\n",
       "      <td>3761.56</td>\n",
       "      <td>15243.20</td>\n",
       "      <td>15243.20</td>\n",
       "    </tr>\n",
       "  </tbody>\n",
       "</table>\n",
       "</div>"
      ],
      "text/plain": [
       "            count    mean     std  min    1%    10%    25%    50%     75%     90%      99%      max\n",
       "Recency   4286.00   91.56   96.35 2.00  2.00   9.00  19.00  53.00  136.75  255.00   369.00   375.00\n",
       "Frequency 4286.00    4.11    4.89 1.00  1.00   1.00   1.00   2.00    5.00    9.00    31.00    31.00\n",
       "Monetary  4286.00 1588.58 2523.16 1.55 40.76 157.03 307.66 702.25 1703.98 3761.56 15243.20 15243.20"
      ]
     },
     "execution_count": 41,
     "metadata": {},
     "output_type": "execute_result"
    }
   ],
   "source": [
    "rfm.describe([0.01, 0.1, 0.25, 0.5, 0.75, 0.90, 0.99]).T"
   ]
  },
  {
   "cell_type": "markdown",
   "id": "b3ca045b",
   "metadata": {},
   "source": [
    "- #### Seems like, suspicious %99-max range of dataset values has been solved.\n",
    "- #### The suspicious structure for the Monetary variable has also been largely corrected.\n",
    "- #### For the Monetary variable, the maximum value, which was around 300,000 before the outlier observation compensation, was reduced to around 15,000."
   ]
  },
  {
   "cell_type": "markdown",
   "id": "0a21c668",
   "metadata": {},
   "source": [
    "- #### Checking distribution of these variables."
   ]
  },
  {
   "cell_type": "code",
   "execution_count": 42,
   "id": "be5e66f6",
   "metadata": {},
   "outputs": [
    {
     "data": {
      "image/png": "[encoded data removed]",
      "text/plain": [
       "<Figure size 1000x600 with 1 Axes>"
      ]
     },
     "metadata": {},
     "output_type": "display_data"
    },
    {
     "data": {
      "image/png": "[encoded data removed]",
      "text/plain": [
       "<Figure size 1000x600 with 1 Axes>"
      ]
     },
     "metadata": {},
     "output_type": "display_data"
    },
    {
     "data": {
      "image/png": "[encoded data removed]",
      "text/plain": [
       "<Figure size 1000x600 with 1 Axes>"
      ]
     },
     "metadata": {},
     "output_type": "display_data"
    }
   ],
   "source": [
    "for col in rfm.columns:\n",
    "    plt.figure(figsize = (10, 6))\n",
    "\n",
    "    rfm[col].hist(bins=20)\n",
    "    \n",
    "    plt.title(f\"{col}\")\n",
    "    plt.show()"
   ]
  },
  {
   "cell_type": "markdown",
   "id": "782390d6",
   "metadata": {},
   "source": [
    "- #### All variables have right skewed distribution. We want our variables to be close to normal distribution. The reason for this is to disseminate the observations and transform them into a form that can be expressed more easily. \n",
    "- #### For these purposes we can use Log Transformation.\n",
    "- #### Monetary variable can stay like this because we won't use it in any algorithm. It is just for comparison."
   ]
  },
  {
   "cell_type": "code",
   "execution_count": 43,
   "id": "6d9c499b",
   "metadata": {},
   "outputs": [],
   "source": [
    "for col in [\"Recency\", \"Frequency\"]:\n",
    "    rfm[f\"LOG_{col}\"] = np.log1p(rfm[col])"
   ]
  },
  {
   "cell_type": "code",
   "execution_count": 44,
   "id": "da344477",
   "metadata": {},
   "outputs": [
    {
     "data": {
      "text/html": [
       "<div>\n",
       "<style scoped>\n",
       "    .dataframe tbody tr th:only-of-type {\n",
       "        vertical-align: middle;\n",
       "    }\n",
       "\n",
       "    .dataframe tbody tr th {\n",
       "        vertical-align: top;\n",
       "    }\n",
       "\n",
       "    .dataframe thead th {\n",
       "        text-align: right;\n",
       "    }\n",
       "</style>\n",
       "<table border=\"1\" class=\"dataframe\">\n",
       "  <thead>\n",
       "    <tr style=\"text-align: right;\">\n",
       "      <th></th>\n",
       "      <th>Recency</th>\n",
       "      <th>Frequency</th>\n",
       "      <th>Monetary</th>\n",
       "      <th>LOG_Recency</th>\n",
       "      <th>LOG_Frequency</th>\n",
       "    </tr>\n",
       "    <tr>\n",
       "      <th>Customer ID</th>\n",
       "      <th></th>\n",
       "      <th></th>\n",
       "      <th></th>\n",
       "      <th></th>\n",
       "      <th></th>\n",
       "    </tr>\n",
       "  </thead>\n",
       "  <tbody>\n",
       "    <tr>\n",
       "      <th>12346.00</th>\n",
       "      <td>166.00</td>\n",
       "      <td>2</td>\n",
       "      <td>169.36</td>\n",
       "      <td>5.12</td>\n",
       "      <td>1.10</td>\n",
       "    </tr>\n",
       "    <tr>\n",
       "      <th>12347.00</th>\n",
       "      <td>4.00</td>\n",
       "      <td>2</td>\n",
       "      <td>1323.32</td>\n",
       "      <td>1.61</td>\n",
       "      <td>1.10</td>\n",
       "    </tr>\n",
       "    <tr>\n",
       "      <th>12348.00</th>\n",
       "      <td>75.00</td>\n",
       "      <td>1</td>\n",
       "      <td>221.16</td>\n",
       "      <td>4.33</td>\n",
       "      <td>0.69</td>\n",
       "    </tr>\n",
       "    <tr>\n",
       "      <th>12349.00</th>\n",
       "      <td>44.00</td>\n",
       "      <td>2</td>\n",
       "      <td>2221.14</td>\n",
       "      <td>3.81</td>\n",
       "      <td>1.10</td>\n",
       "    </tr>\n",
       "    <tr>\n",
       "      <th>12351.00</th>\n",
       "      <td>12.00</td>\n",
       "      <td>1</td>\n",
       "      <td>300.93</td>\n",
       "      <td>2.56</td>\n",
       "      <td>0.69</td>\n",
       "    </tr>\n",
       "  </tbody>\n",
       "</table>\n",
       "</div>"
      ],
      "text/plain": [
       "             Recency  Frequency  Monetary  LOG_Recency  LOG_Frequency\n",
       "Customer ID                                                          \n",
       "12346.00      166.00          2    169.36         5.12           1.10\n",
       "12347.00        4.00          2   1323.32         1.61           1.10\n",
       "12348.00       75.00          1    221.16         4.33           0.69\n",
       "12349.00       44.00          2   2221.14         3.81           1.10\n",
       "12351.00       12.00          1    300.93         2.56           0.69"
      ]
     },
     "execution_count": 44,
     "metadata": {},
     "output_type": "execute_result"
    }
   ],
   "source": [
    "rfm.head()"
   ]
  },
  {
   "cell_type": "markdown",
   "id": "6a38e2b6",
   "metadata": {},
   "source": [
    "- #### For easiness of evaluation, variables must be aligned in the same scale."
   ]
  },
  {
   "cell_type": "code",
   "execution_count": 45,
   "id": "01cc99b1",
   "metadata": {},
   "outputs": [],
   "source": [
    "scaler = StandardScaler()"
   ]
  },
  {
   "cell_type": "code",
   "execution_count": 46,
   "id": "d2ed9ec9",
   "metadata": {},
   "outputs": [
    {
     "data": {
      "text/html": [
       "<style>#sk-container-id-1 {color: black;background-color: white;}#sk-container-id-1 pre{padding: 0;}#sk-container-id-1 div.sk-toggleable {background-color: white;}#sk-container-id-1 label.sk-toggleable__label {cursor: pointer;display: block;width: 100%;margin-bottom: 0;padding: 0.3em;box-sizing: border-box;text-align: center;}#sk-container-id-1 label.sk-toggleable__label-arrow:before {content: \"▸\";float: left;margin-right: 0.25em;color: #696969;}#sk-container-id-1 label.sk-toggleable__label-arrow:hover:before {color: black;}#sk-container-id-1 div.sk-estimator:hover label.sk-toggleable__label-arrow:before {color: black;}#sk-container-id-1 div.sk-toggleable__content {max-height: 0;max-width: 0;overflow: hidden;text-align: left;background-color: #f0f8ff;}#sk-container-id-1 div.sk-toggleable__content pre {margin: 0.2em;color: black;border-radius: 0.25em;background-color: #f0f8ff;}#sk-container-id-1 input.sk-toggleable__control:checked~div.sk-toggleable__content {max-height: 200px;max-width: 100%;overflow: auto;}#sk-container-id-1 input.sk-toggleable__control:checked~label.sk-toggleable__label-arrow:before {content: \"▾\";}#sk-container-id-1 div.sk-estimator input.sk-toggleable__control:checked~label.sk-toggleable__label {background-color: #d4ebff;}#sk-container-id-1 div.sk-label input.sk-toggleable__control:checked~label.sk-toggleable__label {background-color: #d4ebff;}#sk-container-id-1 input.sk-hidden--visually {border: 0;clip: rect(1px 1px 1px 1px);clip: rect(1px, 1px, 1px, 1px);height: 1px;margin: -1px;overflow: hidden;padding: 0;position: absolute;width: 1px;}#sk-container-id-1 div.sk-estimator {font-family: monospace;background-color: #f0f8ff;border: 1px dotted black;border-radius: 0.25em;box-sizing: border-box;margin-bottom: 0.5em;}#sk-container-id-1 div.sk-estimator:hover {background-color: #d4ebff;}#sk-container-id-1 div.sk-parallel-item::after {content: \"\";width: 100%;border-bottom: 1px solid gray;flex-grow: 1;}#sk-container-id-1 div.sk-label:hover label.sk-toggleable__label {background-color: #d4ebff;}#sk-container-id-1 div.sk-serial::before {content: \"\";position: absolute;border-left: 1px solid gray;box-sizing: border-box;top: 0;bottom: 0;left: 50%;z-index: 0;}#sk-container-id-1 div.sk-serial {display: flex;flex-direction: column;align-items: center;background-color: white;padding-right: 0.2em;padding-left: 0.2em;position: relative;}#sk-container-id-1 div.sk-item {position: relative;z-index: 1;}#sk-container-id-1 div.sk-parallel {display: flex;align-items: stretch;justify-content: center;background-color: white;position: relative;}#sk-container-id-1 div.sk-item::before, #sk-container-id-1 div.sk-parallel-item::before {content: \"\";position: absolute;border-left: 1px solid gray;box-sizing: border-box;top: 0;bottom: 0;left: 50%;z-index: -1;}#sk-container-id-1 div.sk-parallel-item {display: flex;flex-direction: column;z-index: 1;position: relative;background-color: white;}#sk-container-id-1 div.sk-parallel-item:first-child::after {align-self: flex-end;width: 50%;}#sk-container-id-1 div.sk-parallel-item:last-child::after {align-self: flex-start;width: 50%;}#sk-container-id-1 div.sk-parallel-item:only-child::after {width: 0;}#sk-container-id-1 div.sk-dashed-wrapped {border: 1px dashed gray;margin: 0 0.4em 0.5em 0.4em;box-sizing: border-box;padding-bottom: 0.4em;background-color: white;}#sk-container-id-1 div.sk-label label {font-family: monospace;font-weight: bold;display: inline-block;line-height: 1.2em;}#sk-container-id-1 div.sk-label-container {text-align: center;}#sk-container-id-1 div.sk-container {/* jupyter's `normalize.less` sets `[hidden] { display: none; }` but bootstrap.min.css set `[hidden] { display: none !important; }` so we also need the `!important` here to be able to override the default hidden behavior on the sphinx rendered scikit-learn.org. See: https://github.com/scikit-learn/scikit-learn/issues/21755 */display: inline-block !important;position: relative;}#sk-container-id-1 div.sk-text-repr-fallback {display: none;}</style><div id=\"sk-container-id-1\" class=\"sk-top-container\"><div class=\"sk-text-repr-fallback\"><pre>StandardScaler()</pre><b>In a Jupyter environment, please rerun this cell to show the HTML representation or trust the notebook. <br />On GitHub, the HTML representation is unable to render, please try loading this page with nbviewer.org.</b></div><div class=\"sk-container\" hidden><div class=\"sk-item\"><div class=\"sk-estimator sk-toggleable\"><input class=\"sk-toggleable__control sk-hidden--visually\" id=\"sk-estimator-id-1\" type=\"checkbox\" checked><label for=\"sk-estimator-id-1\" class=\"sk-toggleable__label sk-toggleable__label-arrow\">StandardScaler</label><div class=\"sk-toggleable__content\"><pre>StandardScaler()</pre></div></div></div></div></div>"
      ],
      "text/plain": [
       "StandardScaler()"
      ]
     },
     "execution_count": 46,
     "metadata": {},
     "output_type": "execute_result"
    }
   ],
   "source": [
    "scaler.fit(rfm[[\"LOG_Recency\", \"LOG_Frequency\"]])"
   ]
  },
  {
   "cell_type": "code",
   "execution_count": 47,
   "id": "03eea251",
   "metadata": {},
   "outputs": [],
   "source": [
    "scaled_rf = scaler.transform(rfm[[\"LOG_Recency\", \"LOG_Frequency\"]])"
   ]
  },
  {
   "cell_type": "markdown",
   "id": "7e33cc21",
   "metadata": {},
   "source": [
    "- #### After scaling processes, output is turning numpy array format so we need to turn back the DataFrame structure."
   ]
  },
  {
   "cell_type": "code",
   "execution_count": 48,
   "id": "4fdb9942",
   "metadata": {},
   "outputs": [],
   "source": [
    "scaled_df = pd.DataFrame (index=rfm.index, columns=[\"LOG_Recency\", \"LOG_Frequency\"], data=scaled_rf)"
   ]
  },
  {
   "cell_type": "code",
   "execution_count": 49,
   "id": "2faadd13",
   "metadata": {},
   "outputs": [
    {
     "data": {
      "text/html": [
       "<div>\n",
       "<style scoped>\n",
       "    .dataframe tbody tr th:only-of-type {\n",
       "        vertical-align: middle;\n",
       "    }\n",
       "\n",
       "    .dataframe tbody tr th {\n",
       "        vertical-align: top;\n",
       "    }\n",
       "\n",
       "    .dataframe thead th {\n",
       "        text-align: right;\n",
       "    }\n",
       "</style>\n",
       "<table border=\"1\" class=\"dataframe\">\n",
       "  <thead>\n",
       "    <tr style=\"text-align: right;\">\n",
       "      <th></th>\n",
       "      <th>LOG_Recency</th>\n",
       "      <th>LOG_Frequency</th>\n",
       "    </tr>\n",
       "    <tr>\n",
       "      <th>Customer ID</th>\n",
       "      <th></th>\n",
       "      <th></th>\n",
       "    </tr>\n",
       "  </thead>\n",
       "  <tbody>\n",
       "    <tr>\n",
       "      <th>12346.00</th>\n",
       "      <td>0.99</td>\n",
       "      <td>-0.40</td>\n",
       "    </tr>\n",
       "    <tr>\n",
       "      <th>12347.00</th>\n",
       "      <td>-1.85</td>\n",
       "      <td>-0.40</td>\n",
       "    </tr>\n",
       "    <tr>\n",
       "      <th>12348.00</th>\n",
       "      <td>0.35</td>\n",
       "      <td>-1.00</td>\n",
       "    </tr>\n",
       "    <tr>\n",
       "      <th>12349.00</th>\n",
       "      <td>-0.07</td>\n",
       "      <td>-0.40</td>\n",
       "    </tr>\n",
       "    <tr>\n",
       "      <th>12351.00</th>\n",
       "      <td>-1.08</td>\n",
       "      <td>-1.00</td>\n",
       "    </tr>\n",
       "  </tbody>\n",
       "</table>\n",
       "</div>"
      ],
      "text/plain": [
       "             LOG_Recency  LOG_Frequency\n",
       "Customer ID                            \n",
       "12346.00            0.99          -0.40\n",
       "12347.00           -1.85          -0.40\n",
       "12348.00            0.35          -1.00\n",
       "12349.00           -0.07          -0.40\n",
       "12351.00           -1.08          -1.00"
      ]
     },
     "execution_count": 49,
     "metadata": {},
     "output_type": "execute_result"
    }
   ],
   "source": [
    "scaled_df.head()"
   ]
  },
  {
   "cell_type": "code",
   "execution_count": 50,
   "id": "6a4967c4",
   "metadata": {},
   "outputs": [
    {
     "data": {
      "image/png": "[encoded data removed]",
      "text/plain": [
       "<Figure size 1000x600 with 1 Axes>"
      ]
     },
     "metadata": {},
     "output_type": "display_data"
    },
    {
     "data": {
      "image/png": "[encoded data removed]",
      "text/plain": [
       "<Figure size 1000x600 with 1 Axes>"
      ]
     },
     "metadata": {},
     "output_type": "display_data"
    }
   ],
   "source": [
    "for col in scaled_df.columns:\n",
    "    plt.figure(figsize = (10, 6))\n",
    "\n",
    "    scaled_df[col].hist(bins=20)\n",
    "    \n",
    "    plt.title(f\"{col}\")\n",
    "    plt.show()"
   ]
  },
  {
   "cell_type": "markdown",
   "id": "3c7f17f9",
   "metadata": {},
   "source": [
    "- #### It is impossible to completely normalize the distribution but with this way we can spread and reduce skewness in variables."
   ]
  },
  {
   "cell_type": "markdown",
   "id": "4fb8e803",
   "metadata": {},
   "source": [
    "- #### Utilized from KMeans for customer segmentation. "
   ]
  },
  {
   "cell_type": "code",
   "execution_count": 51,
   "id": "e1353881",
   "metadata": {},
   "outputs": [],
   "source": [
    "kmeans = KMeans()"
   ]
  },
  {
   "cell_type": "markdown",
   "id": "267b6322",
   "metadata": {},
   "source": [
    "- #### Used Elbow method for optimizing cluster numbers."
   ]
  },
  {
   "cell_type": "code",
   "execution_count": 52,
   "id": "38ed9956",
   "metadata": {},
   "outputs": [
    {
     "data": {
      "image/png": "[encoded data removed]",
      "text/plain": [
       "<Figure size 800x550 with 2 Axes>"
      ]
     },
     "metadata": {},
     "output_type": "display_data"
    }
   ],
   "source": [
    "elbow = KElbowVisualizer(kmeans, k=30)\n",
    "\n",
    "elbow.fit(scaled_df)\n",
    "\n",
    "elbow.show();"
   ]
  },
  {
   "cell_type": "markdown",
   "id": "96c49247",
   "metadata": {},
   "source": [
    "- #### The lowest distance error was seen in the 8-cluster structure with sum of squares."
   ]
  },
  {
   "cell_type": "code",
   "execution_count": 53,
   "id": "bfcfeac9",
   "metadata": {},
   "outputs": [],
   "source": [
    "k = elbow.elbow_value_"
   ]
  },
  {
   "cell_type": "code",
   "execution_count": 54,
   "id": "fa8b527e",
   "metadata": {},
   "outputs": [
    {
     "data": {
      "text/plain": [
       "8"
      ]
     },
     "execution_count": 54,
     "metadata": {},
     "output_type": "execute_result"
    }
   ],
   "source": [
    "k"
   ]
  },
  {
   "cell_type": "code",
   "execution_count": 55,
   "id": "e471aed7",
   "metadata": {},
   "outputs": [],
   "source": [
    "k_means = KMeans(n_clusters= k, random_state=99).fit(scaled_df)"
   ]
  },
  {
   "cell_type": "code",
   "execution_count": 56,
   "id": "a1973496",
   "metadata": {},
   "outputs": [],
   "source": [
    "segments = k_means.labels_"
   ]
  },
  {
   "cell_type": "markdown",
   "id": "c9f8d2a7",
   "metadata": {},
   "source": [
    "- #### Transferred segments in RFM structure."
   ]
  },
  {
   "cell_type": "code",
   "execution_count": 57,
   "id": "38914749",
   "metadata": {},
   "outputs": [],
   "source": [
    "rfm[\"KMeans_Segments\"] = segments"
   ]
  },
  {
   "cell_type": "code",
   "execution_count": 58,
   "id": "0c919ebd",
   "metadata": {},
   "outputs": [
    {
     "data": {
      "text/html": [
       "<div>\n",
       "<style scoped>\n",
       "    .dataframe tbody tr th:only-of-type {\n",
       "        vertical-align: middle;\n",
       "    }\n",
       "\n",
       "    .dataframe tbody tr th {\n",
       "        vertical-align: top;\n",
       "    }\n",
       "\n",
       "    .dataframe thead th {\n",
       "        text-align: right;\n",
       "    }\n",
       "</style>\n",
       "<table border=\"1\" class=\"dataframe\">\n",
       "  <thead>\n",
       "    <tr style=\"text-align: right;\">\n",
       "      <th></th>\n",
       "      <th>Recency</th>\n",
       "      <th>Frequency</th>\n",
       "      <th>Monetary</th>\n",
       "      <th>LOG_Recency</th>\n",
       "      <th>LOG_Frequency</th>\n",
       "      <th>KMeans_Segments</th>\n",
       "    </tr>\n",
       "    <tr>\n",
       "      <th>Customer ID</th>\n",
       "      <th></th>\n",
       "      <th></th>\n",
       "      <th></th>\n",
       "      <th></th>\n",
       "      <th></th>\n",
       "      <th></th>\n",
       "    </tr>\n",
       "  </thead>\n",
       "  <tbody>\n",
       "    <tr>\n",
       "      <th>12346.00</th>\n",
       "      <td>166.00</td>\n",
       "      <td>2</td>\n",
       "      <td>169.36</td>\n",
       "      <td>5.12</td>\n",
       "      <td>1.10</td>\n",
       "      <td>1</td>\n",
       "    </tr>\n",
       "    <tr>\n",
       "      <th>12347.00</th>\n",
       "      <td>4.00</td>\n",
       "      <td>2</td>\n",
       "      <td>1323.32</td>\n",
       "      <td>1.61</td>\n",
       "      <td>1.10</td>\n",
       "      <td>0</td>\n",
       "    </tr>\n",
       "    <tr>\n",
       "      <th>12348.00</th>\n",
       "      <td>75.00</td>\n",
       "      <td>1</td>\n",
       "      <td>221.16</td>\n",
       "      <td>4.33</td>\n",
       "      <td>0.69</td>\n",
       "      <td>2</td>\n",
       "    </tr>\n",
       "    <tr>\n",
       "      <th>12349.00</th>\n",
       "      <td>44.00</td>\n",
       "      <td>2</td>\n",
       "      <td>2221.14</td>\n",
       "      <td>3.81</td>\n",
       "      <td>1.10</td>\n",
       "      <td>2</td>\n",
       "    </tr>\n",
       "    <tr>\n",
       "      <th>12351.00</th>\n",
       "      <td>12.00</td>\n",
       "      <td>1</td>\n",
       "      <td>300.93</td>\n",
       "      <td>2.56</td>\n",
       "      <td>0.69</td>\n",
       "      <td>6</td>\n",
       "    </tr>\n",
       "  </tbody>\n",
       "</table>\n",
       "</div>"
      ],
      "text/plain": [
       "             Recency  Frequency  Monetary  LOG_Recency  LOG_Frequency  KMeans_Segments\n",
       "Customer ID                                                                           \n",
       "12346.00      166.00          2    169.36         5.12           1.10                1\n",
       "12347.00        4.00          2   1323.32         1.61           1.10                0\n",
       "12348.00       75.00          1    221.16         4.33           0.69                2\n",
       "12349.00       44.00          2   2221.14         3.81           1.10                2\n",
       "12351.00       12.00          1    300.93         2.56           0.69                6"
      ]
     },
     "execution_count": 58,
     "metadata": {},
     "output_type": "execute_result"
    }
   ],
   "source": [
    "rfm.head()"
   ]
  },
  {
   "cell_type": "markdown",
   "id": "c0958029",
   "metadata": {},
   "source": [
    "- #### We can group these segments by Recency, Frequency and Monetary. With this way, we can evaluate segments. \n",
    "- #### We can make this evaluation based on the Monetary variable because we did not use this variable in the KMeans algorithm, but this alone will not be enough. That's why we need to evaluate with Recency ve Frequency."
   ]
  },
  {
   "cell_type": "code",
   "execution_count": 59,
   "id": "845d42b5",
   "metadata": {},
   "outputs": [
    {
     "data": {
      "text/html": [
       "<div>\n",
       "<style scoped>\n",
       "    .dataframe tbody tr th:only-of-type {\n",
       "        vertical-align: middle;\n",
       "    }\n",
       "\n",
       "    .dataframe tbody tr th {\n",
       "        vertical-align: top;\n",
       "    }\n",
       "\n",
       "    .dataframe thead tr th {\n",
       "        text-align: left;\n",
       "    }\n",
       "\n",
       "    .dataframe thead tr:last-of-type th {\n",
       "        text-align: right;\n",
       "    }\n",
       "</style>\n",
       "<table border=\"1\" class=\"dataframe\">\n",
       "  <thead>\n",
       "    <tr>\n",
       "      <th></th>\n",
       "      <th colspan=\"3\" halign=\"left\">Recency</th>\n",
       "      <th colspan=\"3\" halign=\"left\">Frequency</th>\n",
       "      <th colspan=\"3\" halign=\"left\">Monetary</th>\n",
       "    </tr>\n",
       "    <tr>\n",
       "      <th></th>\n",
       "      <th>mean</th>\n",
       "      <th>median</th>\n",
       "      <th>count</th>\n",
       "      <th>mean</th>\n",
       "      <th>median</th>\n",
       "      <th>count</th>\n",
       "      <th>mean</th>\n",
       "      <th>median</th>\n",
       "      <th>count</th>\n",
       "    </tr>\n",
       "    <tr>\n",
       "      <th>KMeans_Segments</th>\n",
       "      <th></th>\n",
       "      <th></th>\n",
       "      <th></th>\n",
       "      <th></th>\n",
       "      <th></th>\n",
       "      <th></th>\n",
       "      <th></th>\n",
       "      <th></th>\n",
       "      <th></th>\n",
       "    </tr>\n",
       "  </thead>\n",
       "  <tbody>\n",
       "    <tr>\n",
       "      <th>0</th>\n",
       "      <td>6.39</td>\n",
       "      <td>5.00</td>\n",
       "      <td>352</td>\n",
       "      <td>5.23</td>\n",
       "      <td>5.00</td>\n",
       "      <td>352</td>\n",
       "      <td>1896.92</td>\n",
       "      <td>1382.80</td>\n",
       "      <td>352</td>\n",
       "    </tr>\n",
       "    <tr>\n",
       "      <th>1</th>\n",
       "      <td>241.97</td>\n",
       "      <td>234.00</td>\n",
       "      <td>939</td>\n",
       "      <td>1.24</td>\n",
       "      <td>1.00</td>\n",
       "      <td>939</td>\n",
       "      <td>403.23</td>\n",
       "      <td>266.50</td>\n",
       "      <td>939</td>\n",
       "    </tr>\n",
       "    <tr>\n",
       "      <th>2</th>\n",
       "      <td>69.27</td>\n",
       "      <td>66.00</td>\n",
       "      <td>790</td>\n",
       "      <td>1.43</td>\n",
       "      <td>1.00</td>\n",
       "      <td>790</td>\n",
       "      <td>533.50</td>\n",
       "      <td>378.46</td>\n",
       "      <td>790</td>\n",
       "    </tr>\n",
       "    <tr>\n",
       "      <th>3</th>\n",
       "      <td>32.65</td>\n",
       "      <td>25.00</td>\n",
       "      <td>384</td>\n",
       "      <td>10.40</td>\n",
       "      <td>9.00</td>\n",
       "      <td>384</td>\n",
       "      <td>4145.36</td>\n",
       "      <td>3148.78</td>\n",
       "      <td>384</td>\n",
       "    </tr>\n",
       "    <tr>\n",
       "      <th>4</th>\n",
       "      <td>6.02</td>\n",
       "      <td>5.00</td>\n",
       "      <td>214</td>\n",
       "      <td>19.23</td>\n",
       "      <td>17.00</td>\n",
       "      <td>214</td>\n",
       "      <td>7843.35</td>\n",
       "      <td>6008.61</td>\n",
       "      <td>214</td>\n",
       "    </tr>\n",
       "    <tr>\n",
       "      <th>5</th>\n",
       "      <td>118.37</td>\n",
       "      <td>96.00</td>\n",
       "      <td>578</td>\n",
       "      <td>4.17</td>\n",
       "      <td>4.00</td>\n",
       "      <td>578</td>\n",
       "      <td>1667.55</td>\n",
       "      <td>1234.72</td>\n",
       "      <td>578</td>\n",
       "    </tr>\n",
       "    <tr>\n",
       "      <th>6</th>\n",
       "      <td>20.11</td>\n",
       "      <td>20.00</td>\n",
       "      <td>474</td>\n",
       "      <td>1.47</td>\n",
       "      <td>1.00</td>\n",
       "      <td>474</td>\n",
       "      <td>506.44</td>\n",
       "      <td>350.01</td>\n",
       "      <td>474</td>\n",
       "    </tr>\n",
       "    <tr>\n",
       "      <th>7</th>\n",
       "      <td>29.66</td>\n",
       "      <td>29.00</td>\n",
       "      <td>555</td>\n",
       "      <td>4.08</td>\n",
       "      <td>4.00</td>\n",
       "      <td>555</td>\n",
       "      <td>1561.51</td>\n",
       "      <td>1189.38</td>\n",
       "      <td>555</td>\n",
       "    </tr>\n",
       "  </tbody>\n",
       "</table>\n",
       "</div>"
      ],
      "text/plain": [
       "                Recency              Frequency              Monetary              \n",
       "                   mean median count      mean median count     mean  median count\n",
       "KMeans_Segments                                                                   \n",
       "0                  6.39   5.00   352      5.23   5.00   352  1896.92 1382.80   352\n",
       "1                241.97 234.00   939      1.24   1.00   939   403.23  266.50   939\n",
       "2                 69.27  66.00   790      1.43   1.00   790   533.50  378.46   790\n",
       "3                 32.65  25.00   384     10.40   9.00   384  4145.36 3148.78   384\n",
       "4                  6.02   5.00   214     19.23  17.00   214  7843.35 6008.61   214\n",
       "5                118.37  96.00   578      4.17   4.00   578  1667.55 1234.72   578\n",
       "6                 20.11  20.00   474      1.47   1.00   474   506.44  350.01   474\n",
       "7                 29.66  29.00   555      4.08   4.00   555  1561.51 1189.38   555"
      ]
     },
     "execution_count": 59,
     "metadata": {},
     "output_type": "execute_result"
    }
   ],
   "source": [
    "rfm.groupby(\"KMeans_Segments\").agg({\"Recency\": [\"mean\", \"median\", \"count\"],\n",
    "                                      \"Frequency\": [\"mean\", \"median\", \"count\"],\n",
    "                                      \"Monetary\": [\"mean\", \"median\", \"count\"]})"
   ]
  },
  {
   "cell_type": "markdown",
   "id": "2fd3ad07",
   "metadata": {},
   "source": [
    "- #### For example, the Monetary structures of the 5th segment and the 7th segment have similar average, median and observation values. There may be a thought as to whether these should be combined.\n",
    "- #### As we continue to observe these segments, Frequency structures also show similar metrics..\n",
    "- #### However, the shopping frequency structure (Recency) of these customers is different and these clusters are separated at this point. The 5th segment is based on old customers, but the 7th segment has newer customers."
   ]
  },
  {
   "cell_type": "markdown",
   "id": "b80bc4ec",
   "metadata": {},
   "source": [
    "- #### The segment with the highest money spending is seen as the 4th segment. There may be special campaigns for this segment.\n",
    "- #### Similarly, the segment with the lowest spending is segment 1 and these customers have not made any purchases recently. Their frequencies also have the lowest values. There may be special campaigns for these customers."
   ]
  },
  {
   "cell_type": "code",
   "execution_count": 60,
   "id": "ad9dff37",
   "metadata": {},
   "outputs": [
    {
     "data": {
      "image/png": "[encoded data removed]",
      "text/plain": [
       "<Figure size 2000x1000 with 1 Axes>"
      ]
     },
     "metadata": {},
     "output_type": "display_data"
    }
   ],
   "source": [
    "plt.figure(figsize=(20, 10))\n",
    "\n",
    "sns.boxplot(x=\"KMeans_Segments\", y=\"Monetary\", data=rfm)\n",
    "\n",
    "plt.show()"
   ]
  },
  {
   "cell_type": "markdown",
   "id": "c192b4b4",
   "metadata": {},
   "source": [
    "- #### With visualization, observed that segments 1, 2 and 6 have close patterns with each other.\n",
    "- #### But this comment was based on the Monetary variable, which is our metric. For this reason, need to evaluate it according to our Frequency and Recency variables.\n",
    "- #### They have similar Frequency structures, but the point where these segments differ is the Recency structure."
   ]
  },
  {
   "cell_type": "markdown",
   "id": "3c885e53",
   "metadata": {},
   "source": [
    "- #### Let's examine this situation with the hierarchical clustering method.\n",
    "- #### Created the hierarchical clustering structure in a unifying way from the general to the specific and increase the number of clusters to 10."
   ]
  },
  {
   "cell_type": "code",
   "execution_count": 61,
   "id": "2c273ca3",
   "metadata": {},
   "outputs": [],
   "source": [
    "hc = linkage(scaled_df, 'complete')"
   ]
  },
  {
   "cell_type": "code",
   "execution_count": 62,
   "id": "49703668",
   "metadata": {},
   "outputs": [
    {
     "data": {
      "image/png": "[encoded data removed]",
      "text/plain": [
       "<Figure size 700x500 with 1 Axes>"
      ]
     },
     "metadata": {},
     "output_type": "display_data"
    }
   ],
   "source": [
    "plt.figure(figsize=(7, 5))\n",
    "\n",
    "plt.title(\"Dendrograms\")\n",
    "\n",
    "dend = dendrogram(hc,\n",
    "                   truncate_mode=\"lastp\",\n",
    "                   p=10,\n",
    "                   show_contracted=True,\n",
    "                   leaf_font_size=10)\n",
    "\n",
    "plt.axhline(y=1.2, color='r', linestyle='--')\n",
    "\n",
    "plt.show()"
   ]
  },
  {
   "cell_type": "markdown",
   "id": "3223a5f4",
   "metadata": {},
   "source": [
    "- #### Among the 10 classes, the 4 yellow classes can be combined and reduced to 6 classes."
   ]
  },
  {
   "cell_type": "code",
   "execution_count": 63,
   "id": "6e24d675",
   "metadata": {},
   "outputs": [],
   "source": [
    "hc_ = AgglomerativeClustering(n_clusters=6)"
   ]
  },
  {
   "cell_type": "code",
   "execution_count": 64,
   "id": "e3380ce1",
   "metadata": {},
   "outputs": [],
   "source": [
    "segments = hc_.fit_predict(scaled_df)"
   ]
  },
  {
   "cell_type": "code",
   "execution_count": 65,
   "id": "85814622",
   "metadata": {},
   "outputs": [],
   "source": [
    "rfm[\"Hierarchical_Segments\"] = segments"
   ]
  },
  {
   "cell_type": "markdown",
   "id": "bd779598",
   "metadata": {},
   "source": [
    "- #### Checking general structure"
   ]
  },
  {
   "cell_type": "code",
   "execution_count": 66,
   "id": "57625658",
   "metadata": {},
   "outputs": [
    {
     "data": {
      "text/html": [
       "<div>\n",
       "<style scoped>\n",
       "    .dataframe tbody tr th:only-of-type {\n",
       "        vertical-align: middle;\n",
       "    }\n",
       "\n",
       "    .dataframe tbody tr th {\n",
       "        vertical-align: top;\n",
       "    }\n",
       "\n",
       "    .dataframe thead tr th {\n",
       "        text-align: left;\n",
       "    }\n",
       "\n",
       "    .dataframe thead tr:last-of-type th {\n",
       "        text-align: right;\n",
       "    }\n",
       "</style>\n",
       "<table border=\"1\" class=\"dataframe\">\n",
       "  <thead>\n",
       "    <tr>\n",
       "      <th></th>\n",
       "      <th colspan=\"3\" halign=\"left\">Recency</th>\n",
       "      <th colspan=\"3\" halign=\"left\">Frequency</th>\n",
       "      <th colspan=\"3\" halign=\"left\">Monetary</th>\n",
       "    </tr>\n",
       "    <tr>\n",
       "      <th></th>\n",
       "      <th>mean</th>\n",
       "      <th>median</th>\n",
       "      <th>count</th>\n",
       "      <th>mean</th>\n",
       "      <th>median</th>\n",
       "      <th>count</th>\n",
       "      <th>mean</th>\n",
       "      <th>median</th>\n",
       "      <th>count</th>\n",
       "    </tr>\n",
       "    <tr>\n",
       "      <th>Hierarchical_Segments</th>\n",
       "      <th></th>\n",
       "      <th></th>\n",
       "      <th></th>\n",
       "      <th></th>\n",
       "      <th></th>\n",
       "      <th></th>\n",
       "      <th></th>\n",
       "      <th></th>\n",
       "      <th></th>\n",
       "    </tr>\n",
       "  </thead>\n",
       "  <tbody>\n",
       "    <tr>\n",
       "      <th>0</th>\n",
       "      <td>22.54</td>\n",
       "      <td>17.00</td>\n",
       "      <td>915</td>\n",
       "      <td>8.22</td>\n",
       "      <td>7.00</td>\n",
       "      <td>915</td>\n",
       "      <td>3183.45</td>\n",
       "      <td>2342.57</td>\n",
       "      <td>915</td>\n",
       "    </tr>\n",
       "    <tr>\n",
       "      <th>1</th>\n",
       "      <td>71.59</td>\n",
       "      <td>60.00</td>\n",
       "      <td>1091</td>\n",
       "      <td>3.42</td>\n",
       "      <td>3.00</td>\n",
       "      <td>1091</td>\n",
       "      <td>1354.29</td>\n",
       "      <td>940.86</td>\n",
       "      <td>1091</td>\n",
       "    </tr>\n",
       "    <tr>\n",
       "      <th>2</th>\n",
       "      <td>227.53</td>\n",
       "      <td>220.00</td>\n",
       "      <td>1131</td>\n",
       "      <td>1.43</td>\n",
       "      <td>1.00</td>\n",
       "      <td>1131</td>\n",
       "      <td>474.46</td>\n",
       "      <td>301.65</td>\n",
       "      <td>1131</td>\n",
       "    </tr>\n",
       "    <tr>\n",
       "      <th>3</th>\n",
       "      <td>13.24</td>\n",
       "      <td>13.00</td>\n",
       "      <td>462</td>\n",
       "      <td>2.05</td>\n",
       "      <td>2.00</td>\n",
       "      <td>462</td>\n",
       "      <td>654.60</td>\n",
       "      <td>498.73</td>\n",
       "      <td>462</td>\n",
       "    </tr>\n",
       "    <tr>\n",
       "      <th>4</th>\n",
       "      <td>55.18</td>\n",
       "      <td>53.50</td>\n",
       "      <td>534</td>\n",
       "      <td>1.00</td>\n",
       "      <td>1.00</td>\n",
       "      <td>534</td>\n",
       "      <td>413.07</td>\n",
       "      <td>281.32</td>\n",
       "      <td>534</td>\n",
       "    </tr>\n",
       "    <tr>\n",
       "      <th>5</th>\n",
       "      <td>5.11</td>\n",
       "      <td>5.00</td>\n",
       "      <td>153</td>\n",
       "      <td>21.38</td>\n",
       "      <td>19.00</td>\n",
       "      <td>153</td>\n",
       "      <td>8880.06</td>\n",
       "      <td>7637.56</td>\n",
       "      <td>153</td>\n",
       "    </tr>\n",
       "  </tbody>\n",
       "</table>\n",
       "</div>"
      ],
      "text/plain": [
       "                      Recency              Frequency              Monetary              \n",
       "                         mean median count      mean median count     mean  median count\n",
       "Hierarchical_Segments                                                                   \n",
       "0                       22.54  17.00   915      8.22   7.00   915  3183.45 2342.57   915\n",
       "1                       71.59  60.00  1091      3.42   3.00  1091  1354.29  940.86  1091\n",
       "2                      227.53 220.00  1131      1.43   1.00  1131   474.46  301.65  1131\n",
       "3                       13.24  13.00   462      2.05   2.00   462   654.60  498.73   462\n",
       "4                       55.18  53.50   534      1.00   1.00   534   413.07  281.32   534\n",
       "5                        5.11   5.00   153     21.38  19.00   153  8880.06 7637.56   153"
      ]
     },
     "execution_count": 66,
     "metadata": {},
     "output_type": "execute_result"
    }
   ],
   "source": [
    "rfm.groupby(\"Hierarchical_Segments\").agg({\"Recency\": [\"mean\", \"median\", \"count\"],\n",
    "                                         \"Frequency\": [\"mean\", \"median\", \"count\"],\n",
    "                                         \"Monetary\": [\"mean\", \"median\", \"count\"]})"
   ]
  },
  {
   "cell_type": "code",
   "execution_count": 67,
   "id": "4f4e39ac",
   "metadata": {},
   "outputs": [
    {
     "data": {
      "image/png": "[encoded data removed]",
      "text/plain": [
       "<Figure size 2000x1000 with 1 Axes>"
      ]
     },
     "metadata": {},
     "output_type": "display_data"
    }
   ],
   "source": [
    "plt.figure (figsize=(20, 10))\n",
    "\n",
    "sns.boxplot(x=\"Hierarchical_Segments\", y=\"Monetary\", data=rfm)\n",
    "\n",
    "plt.show()"
   ]
  },
  {
   "cell_type": "markdown",
   "id": "3758a8aa",
   "metadata": {},
   "source": [
    "- #### Classes 2 and 4 are very similar in terms of the amount of money spent. Is it possible to combine these classes? Let's check.\n",
    "\n",
    "- #### They have similar Monetary and Frequency values, but they differ in terms of when the customers last shopped. The shopping made by class 2 can be classified as very old and even we can make this class lost, but class 4 is much more recent."
   ]
  },
  {
   "cell_type": "markdown",
   "id": "ba804c67",
   "metadata": {},
   "source": [
    "- #### Class 5 is very valuable. Max. value for money is in this class. Customers shopped very frequently and made purchases very recently.\n",
    "- #### As an important point, the least number of customers is in the 5th grade."
   ]
  },
  {
   "cell_type": "markdown",
   "id": "f3989ec6",
   "metadata": {},
   "source": [
    "- #### Most customers are in the 2nd class, but mentioned that this customer class can be classified as lost. Efforts can be made to keep these customers up to date."
   ]
  }
 ],
 "metadata": {
  "kernelspec": {
   "display_name": "Python 3 (ipykernel)",
   "language": "python",
   "name": "python3"
  },
  "language_info": {
   "codemirror_mode": {
    "name": "ipython",
    "version": 3
   },
   "file_extension": ".py",
   "mimetype": "text/x-python",
   "name": "python",
   "nbconvert_exporter": "python",
   "pygments_lexer": "ipython3",
   "version": "3.10.13"
  }
 },
 "nbformat": 4,
 "nbformat_minor": 5
}
